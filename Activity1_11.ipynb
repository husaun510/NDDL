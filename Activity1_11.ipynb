{
  "nbformat": 4,
  "nbformat_minor": 0,
  "metadata": {
    "kernelspec": {
      "display_name": "Python 3",
      "language": "python",
      "name": "python3"
    },
    "language_info": {
      "codemirror_mode": {
        "name": "ipython",
        "version": 3
      },
      "file_extension": ".py",
      "mimetype": "text/x-python",
      "name": "python",
      "nbconvert_exporter": "python",
      "pygments_lexer": "ipython3",
      "version": "3.7.7"
    },
    "colab": {
      "name": "Copy of Activity1.ipynb",
      "provenance": [],
      "collapsed_sections": [],
      "include_colab_link": true
    }
  },
  "cells": [
    {
      "cell_type": "markdown",
      "metadata": {
        "id": "view-in-github",
        "colab_type": "text"
      },
      "source": [
        "<a href=\"https://colab.research.google.com/github/husaun510/NDDL/blob/master/Activity1_11.ipynb\" target=\"_parent\"><img src=\"https://colab.research.google.com/assets/colab-badge.svg\" alt=\"Open In Colab\"/></a>"
      ]
    },
    {
      "cell_type": "markdown",
      "metadata": {
        "id": "jnOKC6wg07R9",
        "colab_type": "text"
      },
      "source": [
        "Activity Title : Early Detection of Epilepsy "
      ]
    },
    {
      "cell_type": "markdown",
      "metadata": {
        "id": "pTiec04q07R_",
        "colab_type": "text"
      },
      "source": [
        "Step 1: Downloading the Dataset:\n",
        "use the following link https://neureka-challenge.com/ , you will find all the information in order to understand how to download the dataset.        "
      ]
    },
    {
      "cell_type": "markdown",
      "metadata": {
        "id": "vj8heiUJ07SA",
        "colab_type": "text"
      },
      "source": [
        "Step 2: Installing MNE-Python\n",
        "\n",
        "MNE-Python is an open-source Python module for processing, analysis, and visualization of functional neuroimaging data (such as EEG signals). \n",
        "use the following link to install:\n",
        "https://mne.tools/dev/install/mne_python.html#installing-python"
      ]
    },
    {
      "cell_type": "markdown",
      "metadata": {
        "id": "MV_pJZjh07SB",
        "colab_type": "text"
      },
      "source": [
        "Step 3: Preparing the dataset \n",
        "\n",
        "When you downloading the dataset, you have to looking for the following:\n",
        "    \n",
        "1. The EDF files (training & validation):\n",
        "\n",
        "The edf folder that contain two sub-folders( train for training dataset and dev for validation dataset). \n",
        "\n",
        "2. The Labels files:\n",
        "\n",
        "The _DOCS folder that contain tow text files ( ref_train.txt that including the labels and the event's time for each edf file for training dataset and ref_dev.txt that including the labels and the event's time for each edf file for validation dataset).\n"
      ]
    },
    {
      "cell_type": "code",
      "metadata": {
        "id": "iWtOduGKRmXC",
        "colab_type": "code",
        "colab": {
          "base_uri": "https://localhost:8080/",
          "height": 202
        },
        "outputId": "40a57191-c55b-4d3e-89a7-971d0181eb60"
      },
      "source": [
        "!wget https://raw.githubusercontent.com/mne-tools/mne-python/master/environment.yml"
      ],
      "execution_count": 1,
      "outputs": [
        {
          "output_type": "stream",
          "text": [
            "--2020-05-06 08:33:59--  https://raw.githubusercontent.com/mne-tools/mne-python/master/environment.yml\n",
            "Resolving raw.githubusercontent.com (raw.githubusercontent.com)... 151.101.0.133, 151.101.64.133, 151.101.128.133, ...\n",
            "Connecting to raw.githubusercontent.com (raw.githubusercontent.com)|151.101.0.133|:443... connected.\n",
            "HTTP request sent, awaiting response... 200 OK\n",
            "Length: 717 [text/plain]\n",
            "Saving to: ‘environment.yml’\n",
            "\n",
            "\renvironment.yml       0%[                    ]       0  --.-KB/s               \renvironment.yml     100%[===================>]     717  --.-KB/s    in 0s      \n",
            "\n",
            "2020-05-06 08:34:00 (30.8 MB/s) - ‘environment.yml’ saved [717/717]\n",
            "\n"
          ],
          "name": "stdout"
        }
      ]
    },
    {
      "cell_type": "code",
      "metadata": {
        "id": "VZoHKHtdZK_z",
        "colab_type": "code",
        "colab": {
          "base_uri": "https://localhost:8080/",
          "height": 154
        },
        "outputId": "ded60bf7-1bd9-4301-becf-094118cd175c"
      },
      "source": [
        "!pip install mne --upgrade"
      ],
      "execution_count": 2,
      "outputs": [
        {
          "output_type": "stream",
          "text": [
            "Collecting mne\n",
            "\u001b[?25l  Downloading https://files.pythonhosted.org/packages/a2/1a/8fd2d3b0065597f4aafe9d90eb62db0d40547f818f128349c6878b657302/mne-0.20.3-py3-none-any.whl (6.6MB)\n",
            "\u001b[K     |████████████████████████████████| 6.6MB 2.6MB/s \n",
            "\u001b[?25hRequirement already satisfied, skipping upgrade: scipy>=0.17.1 in /usr/local/lib/python3.6/dist-packages (from mne) (1.4.1)\n",
            "Requirement already satisfied, skipping upgrade: numpy>=1.11.3 in /usr/local/lib/python3.6/dist-packages (from mne) (1.18.3)\n",
            "Installing collected packages: mne\n",
            "Successfully installed mne-0.20.3\n"
          ],
          "name": "stdout"
        }
      ]
    },
    {
      "cell_type": "code",
      "metadata": {
        "id": "EuKQNQvs1MZU",
        "colab_type": "code",
        "colab": {}
      },
      "source": [
        "import requests\n",
        "\n",
        "\n",
        "username = 'nedc_tuh_eeg'\n",
        "password = 'nedc_tuh_eeg'\n",
        "url = 'https://www.isip.piconepress.com/projects/tuh_eeg/downloads/tuh_eeg_seizure/v1.5.1/_DOCS/ref_train.txt'\n",
        "r = requests.get(url, auth=(username, password))  \n",
        "page = r.text\n",
        "file = open(\"ref_train.txt\", \"w\") \n",
        "file.write(page) \n",
        "file.close() \n"
      ],
      "execution_count": 0,
      "outputs": []
    },
    {
      "cell_type": "code",
      "metadata": {
        "id": "1uLwq2DQ07SC",
        "colab_type": "code",
        "colab": {}
      },
      "source": [
        "## Loading the Labels' files\n",
        "\n",
        "import pandas as pd\n",
        "\n",
        "dir_train_label='./ref_train.txt'\n",
        "train_label = pd.read_csv(dir_train_label, sep=\" \", header=None)\n",
        "train_label.columns = ['edf_Name', 'Start_ts_evnt','End_ts_evnt','Label','Conf']\n",
        "\n"
      ],
      "execution_count": 0,
      "outputs": []
    },
    {
      "cell_type": "code",
      "metadata": {
        "id": "trPggHeY07SN",
        "colab_type": "code",
        "outputId": "38bd91ba-3167-4570-dddd-676382cce57d",
        "colab": {
          "base_uri": "https://localhost:8080/",
          "height": 195
        }
      },
      "source": [
        "train_label.head()"
      ],
      "execution_count": 5,
      "outputs": [
        {
          "output_type": "execute_result",
          "data": {
            "text/html": [
              "<div>\n",
              "<style scoped>\n",
              "    .dataframe tbody tr th:only-of-type {\n",
              "        vertical-align: middle;\n",
              "    }\n",
              "\n",
              "    .dataframe tbody tr th {\n",
              "        vertical-align: top;\n",
              "    }\n",
              "\n",
              "    .dataframe thead th {\n",
              "        text-align: right;\n",
              "    }\n",
              "</style>\n",
              "<table border=\"1\" class=\"dataframe\">\n",
              "  <thead>\n",
              "    <tr style=\"text-align: right;\">\n",
              "      <th></th>\n",
              "      <th>edf_Name</th>\n",
              "      <th>Start_ts_evnt</th>\n",
              "      <th>End_ts_evnt</th>\n",
              "      <th>Label</th>\n",
              "      <th>Conf</th>\n",
              "    </tr>\n",
              "  </thead>\n",
              "  <tbody>\n",
              "    <tr>\n",
              "      <th>0</th>\n",
              "      <td>00000077_s003_t000</td>\n",
              "      <td>0.0</td>\n",
              "      <td>1205.0</td>\n",
              "      <td>bckg</td>\n",
              "      <td>1.0</td>\n",
              "    </tr>\n",
              "    <tr>\n",
              "      <th>1</th>\n",
              "      <td>00000254_s005_t000</td>\n",
              "      <td>0.0</td>\n",
              "      <td>1442.0</td>\n",
              "      <td>bckg</td>\n",
              "      <td>1.0</td>\n",
              "    </tr>\n",
              "    <tr>\n",
              "      <th>2</th>\n",
              "      <td>00000254_s006_t001</td>\n",
              "      <td>0.0</td>\n",
              "      <td>1197.0</td>\n",
              "      <td>bckg</td>\n",
              "      <td>1.0</td>\n",
              "    </tr>\n",
              "    <tr>\n",
              "      <th>3</th>\n",
              "      <td>00000254_s007_t000</td>\n",
              "      <td>0.0</td>\n",
              "      <td>1244.0</td>\n",
              "      <td>bckg</td>\n",
              "      <td>1.0</td>\n",
              "    </tr>\n",
              "    <tr>\n",
              "      <th>4</th>\n",
              "      <td>00000272_s007_t000</td>\n",
              "      <td>0.0</td>\n",
              "      <td>194.0</td>\n",
              "      <td>bckg</td>\n",
              "      <td>1.0</td>\n",
              "    </tr>\n",
              "  </tbody>\n",
              "</table>\n",
              "</div>"
            ],
            "text/plain": [
              "             edf_Name  Start_ts_evnt  End_ts_evnt Label  Conf\n",
              "0  00000077_s003_t000            0.0       1205.0  bckg   1.0\n",
              "1  00000254_s005_t000            0.0       1442.0  bckg   1.0\n",
              "2  00000254_s006_t001            0.0       1197.0  bckg   1.0\n",
              "3  00000254_s007_t000            0.0       1244.0  bckg   1.0\n",
              "4  00000272_s007_t000            0.0        194.0  bckg   1.0"
            ]
          },
          "metadata": {
            "tags": []
          },
          "execution_count": 5
        }
      ]
    },
    {
      "cell_type": "code",
      "metadata": {
        "id": "w8pli5MA07SU",
        "colab_type": "code",
        "outputId": "e0b3dffc-e7ce-4b09-9fe7-4ca9fcf3daae",
        "colab": {
          "base_uri": "https://localhost:8080/",
          "height": 34
        }
      },
      "source": [
        "train_label['Label'][36]"
      ],
      "execution_count": 6,
      "outputs": [
        {
          "output_type": "execute_result",
          "data": {
            "text/plain": [
              "'seiz'"
            ]
          },
          "metadata": {
            "tags": []
          },
          "execution_count": 6
        }
      ]
    },
    {
      "cell_type": "code",
      "metadata": {
        "id": "GjqagrAN07Sa",
        "colab_type": "code",
        "colab": {}
      },
      "source": [
        "url = 'https://www.isip.piconepress.com/projects/tuh_eeg/downloads/tuh_eeg_seizure/v1.5.1/_DOCS/ref_dev.txt'\n",
        "r = requests.get(url, auth=(username, password))  \n",
        "page = r.text\n",
        "file = open(\"ref_dev.txt\", \"w\") \n",
        "file.write(page) \n",
        "file.close() \n",
        "\n",
        "dir_valid_label='./ref_train.txt'\n",
        "#dir_valid_label= #'C:/users/ai/Desktop/v1.5.1/_DOCS/ref_dev.txt'\n",
        "valid_label = pd.read_csv(dir_valid_label, sep=\" \", header=None)\n",
        "valid_label.columns = ['edf_Name', 'Start_ts_evnt','End_ts_evnt','Label','Conf']"
      ],
      "execution_count": 0,
      "outputs": []
    },
    {
      "cell_type": "code",
      "metadata": {
        "id": "PLT_aymD07Sf",
        "colab_type": "code",
        "outputId": "79b9ab1e-26a5-4248-e484-237d3ee4934d",
        "colab": {
          "base_uri": "https://localhost:8080/",
          "height": 195
        }
      },
      "source": [
        "valid_label.head()"
      ],
      "execution_count": 8,
      "outputs": [
        {
          "output_type": "execute_result",
          "data": {
            "text/html": [
              "<div>\n",
              "<style scoped>\n",
              "    .dataframe tbody tr th:only-of-type {\n",
              "        vertical-align: middle;\n",
              "    }\n",
              "\n",
              "    .dataframe tbody tr th {\n",
              "        vertical-align: top;\n",
              "    }\n",
              "\n",
              "    .dataframe thead th {\n",
              "        text-align: right;\n",
              "    }\n",
              "</style>\n",
              "<table border=\"1\" class=\"dataframe\">\n",
              "  <thead>\n",
              "    <tr style=\"text-align: right;\">\n",
              "      <th></th>\n",
              "      <th>edf_Name</th>\n",
              "      <th>Start_ts_evnt</th>\n",
              "      <th>End_ts_evnt</th>\n",
              "      <th>Label</th>\n",
              "      <th>Conf</th>\n",
              "    </tr>\n",
              "  </thead>\n",
              "  <tbody>\n",
              "    <tr>\n",
              "      <th>0</th>\n",
              "      <td>00000077_s003_t000</td>\n",
              "      <td>0.0</td>\n",
              "      <td>1205.0</td>\n",
              "      <td>bckg</td>\n",
              "      <td>1.0</td>\n",
              "    </tr>\n",
              "    <tr>\n",
              "      <th>1</th>\n",
              "      <td>00000254_s005_t000</td>\n",
              "      <td>0.0</td>\n",
              "      <td>1442.0</td>\n",
              "      <td>bckg</td>\n",
              "      <td>1.0</td>\n",
              "    </tr>\n",
              "    <tr>\n",
              "      <th>2</th>\n",
              "      <td>00000254_s006_t001</td>\n",
              "      <td>0.0</td>\n",
              "      <td>1197.0</td>\n",
              "      <td>bckg</td>\n",
              "      <td>1.0</td>\n",
              "    </tr>\n",
              "    <tr>\n",
              "      <th>3</th>\n",
              "      <td>00000254_s007_t000</td>\n",
              "      <td>0.0</td>\n",
              "      <td>1244.0</td>\n",
              "      <td>bckg</td>\n",
              "      <td>1.0</td>\n",
              "    </tr>\n",
              "    <tr>\n",
              "      <th>4</th>\n",
              "      <td>00000272_s007_t000</td>\n",
              "      <td>0.0</td>\n",
              "      <td>194.0</td>\n",
              "      <td>bckg</td>\n",
              "      <td>1.0</td>\n",
              "    </tr>\n",
              "  </tbody>\n",
              "</table>\n",
              "</div>"
            ],
            "text/plain": [
              "             edf_Name  Start_ts_evnt  End_ts_evnt Label  Conf\n",
              "0  00000077_s003_t000            0.0       1205.0  bckg   1.0\n",
              "1  00000254_s005_t000            0.0       1442.0  bckg   1.0\n",
              "2  00000254_s006_t001            0.0       1197.0  bckg   1.0\n",
              "3  00000254_s007_t000            0.0       1244.0  bckg   1.0\n",
              "4  00000272_s007_t000            0.0        194.0  bckg   1.0"
            ]
          },
          "metadata": {
            "tags": []
          },
          "execution_count": 8
        }
      ]
    },
    {
      "cell_type": "code",
      "metadata": {
        "id": "F9ufx4JO07Sm",
        "colab_type": "code",
        "colab": {}
      },
      "source": [
        "## Create the list that including all the edf files for training and validation datasets\n",
        "import numpy as np\n",
        "train_edf = train_label[\"edf_Name\"]\n",
        "valid_edf = valid_label[\"edf_Name\"]\n",
        "\n",
        "list_train_edf = []\n",
        "i=0\n",
        "while i < len(train_edf):\n",
        "    list_train_edf.append(train_edf.iloc[i])\n",
        "    i+=1\n",
        "\n",
        "# TODO: complete for the validation\n",
        "list_valid_edf = []\n",
        "i=0\n",
        "while i < len(valid_edf):\n",
        "    list_valid_edf.append(valid_edf.iloc[i])\n",
        "    i+=1"
      ],
      "execution_count": 0,
      "outputs": []
    },
    {
      "cell_type": "code",
      "metadata": {
        "id": "wto2mVxz07Ss",
        "colab_type": "code",
        "outputId": "8aae5481-5f75-454f-af50-71452a13ffe9",
        "colab": {
          "base_uri": "https://localhost:8080/",
          "height": 34
        }
      },
      "source": [
        "len(list_train_edf)"
      ],
      "execution_count": 10,
      "outputs": [
        {
          "output_type": "execute_result",
          "data": {
            "text/plain": [
              "9337"
            ]
          },
          "metadata": {
            "tags": []
          },
          "execution_count": 10
        }
      ]
    },
    {
      "cell_type": "code",
      "metadata": {
        "id": "FIdUOWSb07S1",
        "colab_type": "code",
        "outputId": "06eb2b09-bdf2-49a1-ad58-e2799e6a0e1a",
        "colab": {
          "base_uri": "https://localhost:8080/",
          "height": 67
        }
      },
      "source": [
        "# Create the selected channels' names list \n",
        "\n",
        "tcp_ar = ['EEG FP1-REF', 'EEG FP2-REF', 'EEG F3-REF', 'EEG F4-REF', 'EEG C3-REF', 'EEG C4-REF', 'EEG P3-REF', 'EEG P4-REF', 'EEG O1-REF', 'EEG O2-REF', 'EEG F8-REF', 'EEG T3-REF', 'EEG T4-REF', 'EEG T5-REF', 'EEG T6-REF', 'EEG FZ-REF', 'EEG CZ-REF']\n",
        "tcp_le = ['EEG FP1-LE', 'EEG FP2-LE', 'EEG F3-LE', 'EEG F4-LE', 'EEG C3-LE', 'EEG C4-LE', 'EEG P3-LE', 'EEG P4-LE', 'EEG O1-LE', 'EEG O2-LE', 'EEG F7-LE', 'EEG F8-LE', 'EEG T3-LE', 'EEG T4-LE', 'EEG T5-LE', 'EEG T6-LE',  'EEG CZ-LE']\n",
        "tcp_ar_a = ['EEG FP1-REF', 'EEG FP2-REF', 'EEG F3-REF', 'EEG F4-REF', 'EEG C3-REF', 'EEG C4-REF', 'EEG P3-REF', 'EEG P4-REF', 'EEG O1-REF', 'EEG O2-REF', 'EEG F7-REF', 'EEG F8-REF', 'EEG T3-REF', 'EEG T4-REF', 'EEG T5-REF', 'EEG T6-REF', 'EEG CZ-REF']\n",
        "print(len(tcp_ar))\n",
        "print(len(tcp_le))\n",
        "print(len(tcp_ar_a))"
      ],
      "execution_count": 11,
      "outputs": [
        {
          "output_type": "stream",
          "text": [
            "17\n",
            "17\n",
            "17\n"
          ],
          "name": "stdout"
        }
      ]
    },
    {
      "cell_type": "code",
      "metadata": {
        "id": "Fk7wBPJj07S7",
        "colab_type": "code",
        "colab": {}
      },
      "source": [
        "# this function helps to find the file by searching through the given path\n",
        "\n",
        "import os, fnmatch\n",
        "\n",
        "def find(pattern, path):\n",
        "    result = []\n",
        "    for root, dirs, files in os.walk(path):\n",
        "        for name in files:\n",
        "            if fnmatch.fnmatch(name, pattern):\n",
        "                result.append(os.path.join(root, name))\n",
        "    return result"
      ],
      "execution_count": 0,
      "outputs": []
    },
    {
      "cell_type": "code",
      "metadata": {
        "id": "pfa_s0fisKVw",
        "colab_type": "code",
        "colab": {}
      },
      "source": [
        "from bs4 import BeautifulSoup\n",
        "import pdb\n",
        "\n",
        "edf_train_path = []\n",
        "i = 0 \n",
        "\n",
        "def find_web_dic(path):\n",
        "    global i \n",
        "    result = []\n",
        "    url = path\n",
        "    r = requests.get(url, auth=(username, password))  \n",
        "    page = r.text\n",
        "\n",
        "    html_text = page\n",
        "    soup = BeautifulSoup(html_text, 'html.parser')\n",
        "\n",
        "    for link in soup.find_all('a') :\n",
        "            if link.get('href')[0] != '/' and  link.get('href')[0] != '?' and not link.get('href').endswith('.com'):\n",
        "              if link.get('href').endswith('/'):\n",
        "                \n",
        "                if i > 30: # iteration of edf\n",
        "                  break\n",
        "                else:\n",
        "                  i += 1\n",
        "               \n",
        "                find_web_dic(path+link.get('href'))\n",
        "              else :\n",
        "                if link.get('href').endswith('.edf'):\n",
        "                  print(link.get('href'))\n",
        "                  edf_train_path.append(link.get('href'))\n",
        "                  break   \n",
        "    #return result"
      ],
      "execution_count": 0,
      "outputs": []
    },
    {
      "cell_type": "code",
      "metadata": {
        "id": "FHlENKx3tf0b",
        "colab_type": "code",
        "outputId": "0055aecf-08e8-4de5-f457-aead17868c32",
        "colab": {
          "base_uri": "https://localhost:8080/",
          "height": 269
        }
      },
      "source": [
        "\n",
        "find_web_dic(\"https://www.isip.piconepress.com/projects/tuh_eeg/downloads/tuh_eeg_seizure/v1.5.1/edf/train/\")\n"
      ],
      "execution_count": 14,
      "outputs": [
        {
          "output_type": "stream",
          "text": [
            "00000077_s003_t000.edf\n",
            "00000254_s005_t000.edf\n",
            "00000254_s006_t001.edf\n",
            "00000254_s007_t000.edf\n",
            "00000272_s007_t000.edf\n",
            "00000272_s008_t000.edf\n",
            "00000458_s005_t000.edf\n",
            "00000458_s011_t000.edf\n",
            "00000458_s012_t000.edf\n",
            "00000492_s003_t000.edf\n",
            "00000529_s004_t000.edf\n",
            "00000569_s006_t000.edf\n",
            "00000577_s002_t000.edf\n",
            "00000598_s006_t000.edf\n",
            "00000630_s002_t000.edf\n"
          ],
          "name": "stdout"
        }
      ]
    },
    {
      "cell_type": "code",
      "metadata": {
        "id": "OKtwwm-V-oYN",
        "colab_type": "code",
        "outputId": "a07bf1fd-a4bf-4052-d3f1-b69ad9e56dbb",
        "colab": {
          "base_uri": "https://localhost:8080/",
          "height": 34
        }
      },
      "source": [
        "print(len(edf_train_path))"
      ],
      "execution_count": 15,
      "outputs": [
        {
          "output_type": "stream",
          "text": [
            "15\n"
          ],
          "name": "stdout"
        }
      ]
    },
    {
      "cell_type": "code",
      "metadata": {
        "id": "Nd3HMEwu07S_",
        "colab_type": "code",
        "colab": {}
      },
      "source": [
        "\n",
        "\n",
        "# create the list of edf files path ( train/valid) by using the find function above\n",
        "#pathy = \" \" # insert the path of two datasets ( /train & /edv )\n",
        "#pathy = 'C:/users/ai/Desktop/v1.5.1/edf/train/'\n",
        "#edf_train_path = []\n",
        "#i=0\n",
        "#while i < len(list_train_edf[1:50]):\n",
        "#    edf_train_path.append(find(list_train_edf[i]+'.edf',pathy))\n",
        "#    i+=1\n",
        "    \n",
        "## TODO: complete the edf_valid_path\n"
      ],
      "execution_count": 0,
      "outputs": []
    },
    {
      "cell_type": "code",
      "metadata": {
        "id": "QZrmad9A07TF",
        "colab_type": "code",
        "outputId": "36d8bbe6-2aef-4b30-f3ed-b41dfc654e60",
        "colab": {
          "base_uri": "https://localhost:8080/",
          "height": 34
        }
      },
      "source": [
        "edf_train_path[0]"
      ],
      "execution_count": 16,
      "outputs": [
        {
          "output_type": "execute_result",
          "data": {
            "text/plain": [
              "'00000077_s003_t000.edf'"
            ]
          },
          "metadata": {
            "tags": []
          },
          "execution_count": 16
        }
      ]
    },
    {
      "cell_type": "code",
      "metadata": {
        "id": "6lNpuykE07TN",
        "colab_type": "code",
        "colab": {}
      },
      "source": [
        "## Load and read the edf file by using mne module \n",
        "\n",
        "import os\n",
        "import numpy as np\n",
        "import pandas as pd\n",
        "import matplotlib.pyplot as plt\n",
        "import mne\n",
        "from mne.io import concatenate_raws, read_raw_edf\n",
        "\n",
        "%matplotlib inline \n"
      ],
      "execution_count": 0,
      "outputs": []
    },
    {
      "cell_type": "code",
      "metadata": {
        "id": "EJJjrAfV07TS",
        "colab_type": "code",
        "colab": {}
      },
      "source": [
        "## TODO: Create function for reading the edf file, resampling it to 250Hz,...\n",
        "## save to dataframe, using train_label & valid_label to extract the event time of each label\n",
        "## (background, pre-seizure and seizure) and return the dic or dataframe with features and labels\n",
        "\n",
        "def xyz(path,sFreq = 250,low_freq = 0.5 ,hi_freq = 40):\n",
        "   # sFreq: sampling frequency = 250 Hz\n",
        "   # low_freq,hi_freq for bandpass filter to extract the features frequency-based \n",
        "   # path = edf_train_path\n",
        "    df_b = pd.DataFrame()\n",
        "    df_s = pd.DataFrame()\n",
        "    df_pz = pd.DataFrame()\n",
        "    i = 0\n",
        "    while i < len(path):\n",
        "        \n",
        "        raw = mne.io.read_raw_edf((', '.join(path[i])),preload=True,)\n",
        "        raw = raw.resample(sFreq, npad='auto')\n",
        "        raw = raw.filter(low_freq, hi_freq, fir_design='firwin', skip_by_annotation='edge')\n",
        "        raw = raw.to_data_frame() # save to dataframe\n",
        "        \n",
        "        ## TODO using train_label & valid_label to extract the event time of each label\n",
        "## (background, pre-seizure and seizure) and return the dic or dataframe with features and labels\n",
        "        \n",
        "        if 'EEG FP1-le' in raw.columns:\n",
        "            j=0 \n",
        "            feat_b = []\n",
        "            feat_s = []\n",
        "            feat_pz= []\n",
        "            while j < len(tcp_le):\n",
        "                feat = raw[tcp_le[j]].tolist()\n",
        "                if train_label['Label'][i] == 'bckg':\n",
        "                    feat1 = feat[slice(int(train_label['Start_ts_evnt'][i].item())+10*250 , 15*250)]\n",
        "                    for x in feat1:\n",
        "                        feat_b.append(x)\n",
        "                        \n",
        "                elif train_label['Label'][i] == 'seiz':\n",
        "                    feat2 = feat[slice(int(train_label['Start_ts_evnt'][i].item()),int(train_label['Start_ts_evnt'][i].item())+5*250)]\n",
        "                    for x in feat2:\n",
        "                        feat_s.append(x)\n",
        "                    \n",
        "                    feat3 = feat[slice(int(train_label['Start_ts_evnt'][i].item())-5*250,-int(train_label['Start_ts_evnt'][i].item()))]\n",
        "                    for x in feat3:\n",
        "                        feat_pz.append(x)\n",
        "                j+=1\n",
        "                                 \n",
        "            ft_b = pd.DataFrame([feat_b])\n",
        "            df_b = df_b.append(ft_b)\n",
        "            ft_s = pd.DataFrame([feat_s])\n",
        "            df_s = df_s.append(ft_s)\n",
        "            ft_pz = pd.DataFrame([feat_pz])\n",
        "            df_pz = df_pz.append(ft_pz)\n",
        "            \n",
        "        else:\n",
        "            \n",
        "            j=0 \n",
        "            feat_b = []\n",
        "            feat_s = []\n",
        "            feat_pz= []\n",
        "            while j < len(tcp_ar):\n",
        "                feat = raw[tcp_ar[j]].tolist()\n",
        "                if train_label['Label'][i] == 'bckg':\n",
        "                    feat1 = feat[slice(int(train_label['Start_ts_evnt'][i].item())+10*250 , 15*250)]\n",
        "                    for x in feat1:\n",
        "                        feat_b.append(x)\n",
        "                        \n",
        "                elif train_label['Label'][i] == 'seiz':\n",
        "                    feat2 = feat[slice(int(train_label['Start_ts_evnt'][i].item()),int(train_label['Start_ts_evnt'][i].item())+6*250)]\n",
        "                    for x in feat2:\n",
        "                        feat_s.append(x)\n",
        "                    \n",
        "                    feat3 = feat[slice(int(train_label['Start_ts_evnt'][i].item())-5*250,-int(train_label['Start_ts_evnt'][i].item()))]\n",
        "                    for x in feat3:\n",
        "                        feat_pz.append(x)\n",
        "                    \n",
        "                j+=1\n",
        "                                 \n",
        "        ft_b = pd.DataFrame([feat_b])\n",
        "        df_b = df_b.append(ft_b)\n",
        "        ft_s = pd.DataFrame([feat_s])\n",
        "        df_s = df_s.append(ft_s)\n",
        "        ft_pz = pd.DataFrame([feat_pz])\n",
        "        df_pz = df_pz.append(ft_pz)\n",
        "        i+=1\n",
        "    \n",
        "        #df = feat_b.append(feat_s)\n",
        "        #df.append(feat_pz)\n",
        "    return df_b,df_s,df_pz"
      ],
      "execution_count": 0,
      "outputs": []
    },
    {
      "cell_type": "code",
      "metadata": {
        "id": "ZuubcV1G07TX",
        "colab_type": "code",
        "outputId": "7f9bd29f-b34b-4161-bd08-1e134181dff7",
        "colab": {
          "base_uri": "https://localhost:8080/",
          "height": 323
        }
      },
      "source": [
        "df_b,df_s,df_pz= xyz(edf_train_path)\n"
      ],
      "execution_count": 0,
      "outputs": [
        {
          "output_type": "error",
          "ename": "NotImplementedError",
          "evalue": "ignored",
          "traceback": [
            "\u001b[0;31m---------------------------------------------------------------------------\u001b[0m",
            "\u001b[0;31mNotImplementedError\u001b[0m                       Traceback (most recent call last)",
            "\u001b[0;32m<ipython-input-334-714a093e0ca4>\u001b[0m in \u001b[0;36m<module>\u001b[0;34m()\u001b[0m\n\u001b[0;32m----> 1\u001b[0;31m \u001b[0mdf_b\u001b[0m\u001b[0;34m,\u001b[0m\u001b[0mdf_s\u001b[0m\u001b[0;34m,\u001b[0m\u001b[0mdf_pz\u001b[0m\u001b[0;34m=\u001b[0m \u001b[0mxyz\u001b[0m\u001b[0;34m(\u001b[0m\u001b[0medf_train_path\u001b[0m\u001b[0;34m)\u001b[0m\u001b[0;34m\u001b[0m\u001b[0;34m\u001b[0m\u001b[0m\n\u001b[0m",
            "\u001b[0;32m<ipython-input-333-0fa3859598e2>\u001b[0m in \u001b[0;36mxyz\u001b[0;34m(path, sFreq, low_freq, hi_freq)\u001b[0m\n\u001b[1;32m     10\u001b[0m     \u001b[0;32mwhile\u001b[0m \u001b[0mi\u001b[0m \u001b[0;34m<\u001b[0m \u001b[0mlen\u001b[0m\u001b[0;34m(\u001b[0m\u001b[0mpath\u001b[0m\u001b[0;34m)\u001b[0m\u001b[0;34m:\u001b[0m\u001b[0;34m\u001b[0m\u001b[0;34m\u001b[0m\u001b[0m\n\u001b[1;32m     11\u001b[0m \u001b[0;34m\u001b[0m\u001b[0m\n\u001b[0;32m---> 12\u001b[0;31m         \u001b[0mraw\u001b[0m \u001b[0;34m=\u001b[0m \u001b[0mmne\u001b[0m\u001b[0;34m.\u001b[0m\u001b[0mio\u001b[0m\u001b[0;34m.\u001b[0m\u001b[0mread_raw_edf\u001b[0m\u001b[0;34m(\u001b[0m\u001b[0;34m(\u001b[0m\u001b[0;34m', '\u001b[0m\u001b[0;34m.\u001b[0m\u001b[0mjoin\u001b[0m\u001b[0;34m(\u001b[0m\u001b[0mpath\u001b[0m\u001b[0;34m[\u001b[0m\u001b[0mi\u001b[0m\u001b[0;34m]\u001b[0m\u001b[0;34m)\u001b[0m\u001b[0;34m)\u001b[0m\u001b[0;34m,\u001b[0m\u001b[0mpreload\u001b[0m\u001b[0;34m=\u001b[0m\u001b[0;32mTrue\u001b[0m\u001b[0;34m,\u001b[0m\u001b[0;34m)\u001b[0m\u001b[0;34m\u001b[0m\u001b[0;34m\u001b[0m\u001b[0m\n\u001b[0m\u001b[1;32m     13\u001b[0m         \u001b[0mraw\u001b[0m \u001b[0;34m=\u001b[0m \u001b[0mraw\u001b[0m\u001b[0;34m.\u001b[0m\u001b[0mresample\u001b[0m\u001b[0;34m(\u001b[0m\u001b[0msFreq\u001b[0m\u001b[0;34m,\u001b[0m \u001b[0mnpad\u001b[0m\u001b[0;34m=\u001b[0m\u001b[0;34m'auto'\u001b[0m\u001b[0;34m)\u001b[0m\u001b[0;34m\u001b[0m\u001b[0;34m\u001b[0m\u001b[0m\n\u001b[1;32m     14\u001b[0m         \u001b[0mraw\u001b[0m \u001b[0;34m=\u001b[0m \u001b[0mraw\u001b[0m\u001b[0;34m.\u001b[0m\u001b[0mfilter\u001b[0m\u001b[0;34m(\u001b[0m\u001b[0mlow_freq\u001b[0m\u001b[0;34m,\u001b[0m \u001b[0mhi_freq\u001b[0m\u001b[0;34m,\u001b[0m \u001b[0mfir_design\u001b[0m\u001b[0;34m=\u001b[0m\u001b[0;34m'firwin'\u001b[0m\u001b[0;34m,\u001b[0m \u001b[0mskip_by_annotation\u001b[0m\u001b[0;34m=\u001b[0m\u001b[0;34m'edge'\u001b[0m\u001b[0;34m)\u001b[0m\u001b[0;34m\u001b[0m\u001b[0;34m\u001b[0m\u001b[0m\n",
            "\u001b[0;32m/usr/local/lib/python3.6/dist-packages/mne/io/edf/edf.py\u001b[0m in \u001b[0;36mread_raw_edf\u001b[0;34m(input_fname, eog, misc, stim_channel, exclude, preload, verbose)\u001b[0m\n\u001b[1;32m   1179\u001b[0m     \u001b[0;32melif\u001b[0m \u001b[0mext\u001b[0m \u001b[0;32mnot\u001b[0m \u001b[0;32min\u001b[0m \u001b[0;34m(\u001b[0m\u001b[0;34m'edf'\u001b[0m\u001b[0;34m,\u001b[0m \u001b[0;34m'bdf'\u001b[0m\u001b[0;34m)\u001b[0m\u001b[0;34m:\u001b[0m\u001b[0;34m\u001b[0m\u001b[0;34m\u001b[0m\u001b[0m\n\u001b[1;32m   1180\u001b[0m         raise NotImplementedError('Only EDF and BDF files are supported, got '\n\u001b[0;32m-> 1181\u001b[0;31m                                   '{}.'.format(ext))\n\u001b[0m\u001b[1;32m   1182\u001b[0m     return RawEDF(input_fname=input_fname, eog=eog, misc=misc,\n\u001b[1;32m   1183\u001b[0m                   \u001b[0mstim_channel\u001b[0m\u001b[0;34m=\u001b[0m\u001b[0mstim_channel\u001b[0m\u001b[0;34m,\u001b[0m \u001b[0mexclude\u001b[0m\u001b[0;34m=\u001b[0m\u001b[0mexclude\u001b[0m\u001b[0;34m,\u001b[0m \u001b[0mpreload\u001b[0m\u001b[0;34m=\u001b[0m\u001b[0mpreload\u001b[0m\u001b[0;34m,\u001b[0m\u001b[0;34m\u001b[0m\u001b[0;34m\u001b[0m\u001b[0m\n",
            "\u001b[0;31mNotImplementedError\u001b[0m: Only EDF and BDF files are supported, got , e, d, f."
          ]
        }
      ]
    },
    {
      "cell_type": "code",
      "metadata": {
        "id": "6x8spBkR07Tc",
        "colab_type": "code",
        "outputId": "147b8b5d-5f3d-4dda-9519-0c6f9244a2ba",
        "colab": {}
      },
      "source": [
        "# Background Dataframe (features,target)\n",
        "df_feat_b = df_b.dropna()\n",
        "df_feat_b['Label'] = 'bckg'\n",
        "df_feat_b.head()"
      ],
      "execution_count": 0,
      "outputs": [
        {
          "output_type": "stream",
          "text": [
            "C:\\Users\\AI\\AppData\\Local\\Continuum\\anaconda3\\envs\\dlnd\\lib\\site-packages\\ipykernel_launcher.py:2: SettingWithCopyWarning: \n",
            "A value is trying to be set on a copy of a slice from a DataFrame.\n",
            "Try using .loc[row_indexer,col_indexer] = value instead\n",
            "\n",
            "See the caveats in the documentation: http://pandas.pydata.org/pandas-docs/stable/indexing.html#indexing-view-versus-copy\n",
            "  \n"
          ],
          "name": "stderr"
        },
        {
          "output_type": "execute_result",
          "data": {
            "text/html": [
              "<div>\n",
              "<style scoped>\n",
              "    .dataframe tbody tr th:only-of-type {\n",
              "        vertical-align: middle;\n",
              "    }\n",
              "\n",
              "    .dataframe tbody tr th {\n",
              "        vertical-align: top;\n",
              "    }\n",
              "\n",
              "    .dataframe thead th {\n",
              "        text-align: right;\n",
              "    }\n",
              "</style>\n",
              "<table border=\"1\" class=\"dataframe\">\n",
              "  <thead>\n",
              "    <tr style=\"text-align: right;\">\n",
              "      <th></th>\n",
              "      <th>0</th>\n",
              "      <th>1</th>\n",
              "      <th>2</th>\n",
              "      <th>3</th>\n",
              "      <th>4</th>\n",
              "      <th>5</th>\n",
              "      <th>6</th>\n",
              "      <th>7</th>\n",
              "      <th>8</th>\n",
              "      <th>9</th>\n",
              "      <th>...</th>\n",
              "      <th>21241</th>\n",
              "      <th>21242</th>\n",
              "      <th>21243</th>\n",
              "      <th>21244</th>\n",
              "      <th>21245</th>\n",
              "      <th>21246</th>\n",
              "      <th>21247</th>\n",
              "      <th>21248</th>\n",
              "      <th>21249</th>\n",
              "      <th>Label</th>\n",
              "    </tr>\n",
              "  </thead>\n",
              "  <tbody>\n",
              "    <tr>\n",
              "      <th>0</th>\n",
              "      <td>13.583620</td>\n",
              "      <td>13.676094</td>\n",
              "      <td>13.600835</td>\n",
              "      <td>14.181311</td>\n",
              "      <td>15.667526</td>\n",
              "      <td>17.915342</td>\n",
              "      <td>20.665114</td>\n",
              "      <td>23.519884</td>\n",
              "      <td>25.790085</td>\n",
              "      <td>26.743195</td>\n",
              "      <td>...</td>\n",
              "      <td>-39.179194</td>\n",
              "      <td>-39.085698</td>\n",
              "      <td>-38.395251</td>\n",
              "      <td>-36.830496</td>\n",
              "      <td>-34.388235</td>\n",
              "      <td>-31.339440</td>\n",
              "      <td>-28.113392</td>\n",
              "      <td>-25.113471</td>\n",
              "      <td>-22.551558</td>\n",
              "      <td>bckg</td>\n",
              "    </tr>\n",
              "    <tr>\n",
              "      <th>0</th>\n",
              "      <td>-1309.107853</td>\n",
              "      <td>-1318.957696</td>\n",
              "      <td>-1322.902085</td>\n",
              "      <td>-1326.147127</td>\n",
              "      <td>-1332.173340</td>\n",
              "      <td>-1340.706616</td>\n",
              "      <td>-1349.218614</td>\n",
              "      <td>-1355.917499</td>\n",
              "      <td>-1361.258724</td>\n",
              "      <td>-1366.948434</td>\n",
              "      <td>...</td>\n",
              "      <td>-0.141358</td>\n",
              "      <td>1.045202</td>\n",
              "      <td>5.331259</td>\n",
              "      <td>10.147087</td>\n",
              "      <td>13.476493</td>\n",
              "      <td>14.819768</td>\n",
              "      <td>14.558394</td>\n",
              "      <td>12.842665</td>\n",
              "      <td>9.464605</td>\n",
              "      <td>bckg</td>\n",
              "    </tr>\n",
              "    <tr>\n",
              "      <th>0</th>\n",
              "      <td>2.914161</td>\n",
              "      <td>1.590882</td>\n",
              "      <td>-0.020890</td>\n",
              "      <td>-1.778035</td>\n",
              "      <td>-3.519420</td>\n",
              "      <td>-5.092240</td>\n",
              "      <td>-6.292474</td>\n",
              "      <td>-6.847355</td>\n",
              "      <td>-6.542990</td>\n",
              "      <td>-5.433010</td>\n",
              "      <td>...</td>\n",
              "      <td>0.988891</td>\n",
              "      <td>0.618023</td>\n",
              "      <td>0.419069</td>\n",
              "      <td>0.243810</td>\n",
              "      <td>0.032271</td>\n",
              "      <td>-0.076679</td>\n",
              "      <td>0.125102</td>\n",
              "      <td>0.664998</td>\n",
              "      <td>1.279810</td>\n",
              "      <td>bckg</td>\n",
              "    </tr>\n",
              "    <tr>\n",
              "      <th>0</th>\n",
              "      <td>5.454314</td>\n",
              "      <td>2.472440</td>\n",
              "      <td>-1.704146</td>\n",
              "      <td>-3.170010</td>\n",
              "      <td>0.852635</td>\n",
              "      <td>9.117344</td>\n",
              "      <td>16.441794</td>\n",
              "      <td>17.506300</td>\n",
              "      <td>11.437249</td>\n",
              "      <td>3.004154</td>\n",
              "      <td>...</td>\n",
              "      <td>30.227733</td>\n",
              "      <td>31.508770</td>\n",
              "      <td>32.008501</td>\n",
              "      <td>31.312387</td>\n",
              "      <td>30.262266</td>\n",
              "      <td>30.615903</td>\n",
              "      <td>33.576708</td>\n",
              "      <td>38.127551</td>\n",
              "      <td>40.953090</td>\n",
              "      <td>bckg</td>\n",
              "    </tr>\n",
              "    <tr>\n",
              "      <th>0</th>\n",
              "      <td>4.099143</td>\n",
              "      <td>2.044323</td>\n",
              "      <td>1.723583</td>\n",
              "      <td>2.102997</td>\n",
              "      <td>1.539621</td>\n",
              "      <td>-0.536260</td>\n",
              "      <td>-3.154387</td>\n",
              "      <td>-4.823918</td>\n",
              "      <td>-4.847987</td>\n",
              "      <td>-3.720888</td>\n",
              "      <td>...</td>\n",
              "      <td>7.693409</td>\n",
              "      <td>6.900950</td>\n",
              "      <td>5.710828</td>\n",
              "      <td>5.444382</td>\n",
              "      <td>6.561429</td>\n",
              "      <td>7.747034</td>\n",
              "      <td>6.824235</td>\n",
              "      <td>2.690702</td>\n",
              "      <td>-3.608169</td>\n",
              "      <td>bckg</td>\n",
              "    </tr>\n",
              "  </tbody>\n",
              "</table>\n",
              "<p>5 rows × 21251 columns</p>\n",
              "</div>"
            ],
            "text/plain": [
              "             0            1            2            3            4  \\\n",
              "0    13.583620    13.676094    13.600835    14.181311    15.667526   \n",
              "0 -1309.107853 -1318.957696 -1322.902085 -1326.147127 -1332.173340   \n",
              "0     2.914161     1.590882    -0.020890    -1.778035    -3.519420   \n",
              "0     5.454314     2.472440    -1.704146    -3.170010     0.852635   \n",
              "0     4.099143     2.044323     1.723583     2.102997     1.539621   \n",
              "\n",
              "             5            6            7            8            9  ...  \\\n",
              "0    17.915342    20.665114    23.519884    25.790085    26.743195  ...   \n",
              "0 -1340.706616 -1349.218614 -1355.917499 -1361.258724 -1366.948434  ...   \n",
              "0    -5.092240    -6.292474    -6.847355    -6.542990    -5.433010  ...   \n",
              "0     9.117344    16.441794    17.506300    11.437249     3.004154  ...   \n",
              "0    -0.536260    -3.154387    -4.823918    -4.847987    -3.720888  ...   \n",
              "\n",
              "       21241      21242      21243      21244      21245      21246  \\\n",
              "0 -39.179194 -39.085698 -38.395251 -36.830496 -34.388235 -31.339440   \n",
              "0  -0.141358   1.045202   5.331259  10.147087  13.476493  14.819768   \n",
              "0   0.988891   0.618023   0.419069   0.243810   0.032271  -0.076679   \n",
              "0  30.227733  31.508770  32.008501  31.312387  30.262266  30.615903   \n",
              "0   7.693409   6.900950   5.710828   5.444382   6.561429   7.747034   \n",
              "\n",
              "       21247      21248      21249  Label  \n",
              "0 -28.113392 -25.113471 -22.551558   bckg  \n",
              "0  14.558394  12.842665   9.464605   bckg  \n",
              "0   0.125102   0.664998   1.279810   bckg  \n",
              "0  33.576708  38.127551  40.953090   bckg  \n",
              "0   6.824235   2.690702  -3.608169   bckg  \n",
              "\n",
              "[5 rows x 21251 columns]"
            ]
          },
          "metadata": {
            "tags": []
          },
          "execution_count": 57
        }
      ]
    },
    {
      "cell_type": "code",
      "metadata": {
        "id": "OsiYgb7n07Tj",
        "colab_type": "code",
        "outputId": "36349a5b-1f3d-4ede-afa8-fd9bdc9c39ae",
        "colab": {}
      },
      "source": [
        "(21250/250)/17"
      ],
      "execution_count": 0,
      "outputs": [
        {
          "output_type": "execute_result",
          "data": {
            "text/plain": [
              "5.0"
            ]
          },
          "metadata": {
            "tags": []
          },
          "execution_count": 66
        }
      ]
    },
    {
      "cell_type": "code",
      "metadata": {
        "id": "sk9IQzbn07To",
        "colab_type": "code",
        "outputId": "600d0e5e-8bf6-49b6-ad87-28b8eeb2a1b7",
        "colab": {}
      },
      "source": [
        "# Seizure Dataframe (features,target)\n",
        "df_feat_s = df_s.dropna()\n",
        "df_feat_s['Label'] = 'seiz'\n",
        "df_feat_s.head()"
      ],
      "execution_count": 0,
      "outputs": [
        {
          "output_type": "stream",
          "text": [
            "C:\\Users\\AI\\AppData\\Local\\Continuum\\anaconda3\\envs\\dlnd\\lib\\site-packages\\ipykernel_launcher.py:2: SettingWithCopyWarning: \n",
            "A value is trying to be set on a copy of a slice from a DataFrame.\n",
            "Try using .loc[row_indexer,col_indexer] = value instead\n",
            "\n",
            "See the caveats in the documentation: http://pandas.pydata.org/pandas-docs/stable/indexing.html#indexing-view-versus-copy\n",
            "  \n"
          ],
          "name": "stderr"
        },
        {
          "output_type": "execute_result",
          "data": {
            "text/html": [
              "<div>\n",
              "<style scoped>\n",
              "    .dataframe tbody tr th:only-of-type {\n",
              "        vertical-align: middle;\n",
              "    }\n",
              "\n",
              "    .dataframe tbody tr th {\n",
              "        vertical-align: top;\n",
              "    }\n",
              "\n",
              "    .dataframe thead th {\n",
              "        text-align: right;\n",
              "    }\n",
              "</style>\n",
              "<table border=\"1\" class=\"dataframe\">\n",
              "  <thead>\n",
              "    <tr style=\"text-align: right;\">\n",
              "      <th></th>\n",
              "      <th>0</th>\n",
              "      <th>1</th>\n",
              "      <th>2</th>\n",
              "      <th>3</th>\n",
              "      <th>4</th>\n",
              "      <th>5</th>\n",
              "      <th>6</th>\n",
              "      <th>7</th>\n",
              "      <th>8</th>\n",
              "      <th>9</th>\n",
              "      <th>...</th>\n",
              "      <th>25491</th>\n",
              "      <th>25492</th>\n",
              "      <th>25493</th>\n",
              "      <th>25494</th>\n",
              "      <th>25495</th>\n",
              "      <th>25496</th>\n",
              "      <th>25497</th>\n",
              "      <th>25498</th>\n",
              "      <th>25499</th>\n",
              "      <th>Label</th>\n",
              "    </tr>\n",
              "  </thead>\n",
              "  <tbody>\n",
              "    <tr>\n",
              "      <th>0</th>\n",
              "      <td>-2.734640</td>\n",
              "      <td>-2.551355</td>\n",
              "      <td>-2.293650</td>\n",
              "      <td>-1.966173</td>\n",
              "      <td>-1.571032</td>\n",
              "      <td>-1.013175</td>\n",
              "      <td>-0.136454</td>\n",
              "      <td>1.096071</td>\n",
              "      <td>2.458958</td>\n",
              "      <td>3.568715</td>\n",
              "      <td>...</td>\n",
              "      <td>12.458570</td>\n",
              "      <td>11.643838</td>\n",
              "      <td>10.464101</td>\n",
              "      <td>8.785195</td>\n",
              "      <td>6.860813</td>\n",
              "      <td>5.117282</td>\n",
              "      <td>3.750777</td>\n",
              "      <td>2.590092</td>\n",
              "      <td>1.339295</td>\n",
              "      <td>seiz</td>\n",
              "    </tr>\n",
              "    <tr>\n",
              "      <th>0</th>\n",
              "      <td>8.825453</td>\n",
              "      <td>8.468153</td>\n",
              "      <td>7.808286</td>\n",
              "      <td>7.164391</td>\n",
              "      <td>6.819071</td>\n",
              "      <td>6.842722</td>\n",
              "      <td>7.102181</td>\n",
              "      <td>7.403234</td>\n",
              "      <td>7.625199</td>\n",
              "      <td>7.750529</td>\n",
              "      <td>...</td>\n",
              "      <td>8.539545</td>\n",
              "      <td>9.755509</td>\n",
              "      <td>11.026162</td>\n",
              "      <td>11.557678</td>\n",
              "      <td>11.185137</td>\n",
              "      <td>10.489555</td>\n",
              "      <td>10.275030</td>\n",
              "      <td>10.866587</td>\n",
              "      <td>11.832651</td>\n",
              "      <td>seiz</td>\n",
              "    </tr>\n",
              "    <tr>\n",
              "      <th>0</th>\n",
              "      <td>-2.386603</td>\n",
              "      <td>-2.534650</td>\n",
              "      <td>-3.023141</td>\n",
              "      <td>-3.625949</td>\n",
              "      <td>-4.119572</td>\n",
              "      <td>-4.416656</td>\n",
              "      <td>-4.612456</td>\n",
              "      <td>-4.894409</td>\n",
              "      <td>-5.339604</td>\n",
              "      <td>-5.761111</td>\n",
              "      <td>...</td>\n",
              "      <td>7.725023</td>\n",
              "      <td>7.696311</td>\n",
              "      <td>7.678895</td>\n",
              "      <td>7.639380</td>\n",
              "      <td>7.289026</td>\n",
              "      <td>6.365399</td>\n",
              "      <td>5.125904</td>\n",
              "      <td>4.425531</td>\n",
              "      <td>5.102227</td>\n",
              "      <td>seiz</td>\n",
              "    </tr>\n",
              "    <tr>\n",
              "      <th>0</th>\n",
              "      <td>2.850367</td>\n",
              "      <td>2.786342</td>\n",
              "      <td>2.591802</td>\n",
              "      <td>2.709709</td>\n",
              "      <td>3.256378</td>\n",
              "      <td>3.932367</td>\n",
              "      <td>4.359859</td>\n",
              "      <td>4.485432</td>\n",
              "      <td>4.615071</td>\n",
              "      <td>5.067003</td>\n",
              "      <td>...</td>\n",
              "      <td>-2.668094</td>\n",
              "      <td>-3.655375</td>\n",
              "      <td>-5.018789</td>\n",
              "      <td>-6.553597</td>\n",
              "      <td>-8.057474</td>\n",
              "      <td>-9.417297</td>\n",
              "      <td>-10.626127</td>\n",
              "      <td>-11.754611</td>\n",
              "      <td>-12.903304</td>\n",
              "      <td>seiz</td>\n",
              "    </tr>\n",
              "    <tr>\n",
              "      <th>0</th>\n",
              "      <td>-4.730959</td>\n",
              "      <td>-6.185953</td>\n",
              "      <td>-7.634356</td>\n",
              "      <td>-8.551284</td>\n",
              "      <td>-8.663131</td>\n",
              "      <td>-8.191887</td>\n",
              "      <td>-7.764652</td>\n",
              "      <td>-7.997293</td>\n",
              "      <td>-9.053872</td>\n",
              "      <td>-10.544511</td>\n",
              "      <td>...</td>\n",
              "      <td>-3.689549</td>\n",
              "      <td>-3.362035</td>\n",
              "      <td>-2.245007</td>\n",
              "      <td>-0.670468</td>\n",
              "      <td>0.654441</td>\n",
              "      <td>1.175739</td>\n",
              "      <td>0.889600</td>\n",
              "      <td>0.308977</td>\n",
              "      <td>0.076174</td>\n",
              "      <td>seiz</td>\n",
              "    </tr>\n",
              "  </tbody>\n",
              "</table>\n",
              "<p>5 rows × 25501 columns</p>\n",
              "</div>"
            ],
            "text/plain": [
              "          0         1         2         3         4         5         6  \\\n",
              "0 -2.734640 -2.551355 -2.293650 -1.966173 -1.571032 -1.013175 -0.136454   \n",
              "0  8.825453  8.468153  7.808286  7.164391  6.819071  6.842722  7.102181   \n",
              "0 -2.386603 -2.534650 -3.023141 -3.625949 -4.119572 -4.416656 -4.612456   \n",
              "0  2.850367  2.786342  2.591802  2.709709  3.256378  3.932367  4.359859   \n",
              "0 -4.730959 -6.185953 -7.634356 -8.551284 -8.663131 -8.191887 -7.764652   \n",
              "\n",
              "          7         8          9  ...      25491      25492      25493  \\\n",
              "0  1.096071  2.458958   3.568715  ...  12.458570  11.643838  10.464101   \n",
              "0  7.403234  7.625199   7.750529  ...   8.539545   9.755509  11.026162   \n",
              "0 -4.894409 -5.339604  -5.761111  ...   7.725023   7.696311   7.678895   \n",
              "0  4.485432  4.615071   5.067003  ...  -2.668094  -3.655375  -5.018789   \n",
              "0 -7.997293 -9.053872 -10.544511  ...  -3.689549  -3.362035  -2.245007   \n",
              "\n",
              "       25494      25495      25496      25497      25498      25499  Label  \n",
              "0   8.785195   6.860813   5.117282   3.750777   2.590092   1.339295   seiz  \n",
              "0  11.557678  11.185137  10.489555  10.275030  10.866587  11.832651   seiz  \n",
              "0   7.639380   7.289026   6.365399   5.125904   4.425531   5.102227   seiz  \n",
              "0  -6.553597  -8.057474  -9.417297 -10.626127 -11.754611 -12.903304   seiz  \n",
              "0  -0.670468   0.654441   1.175739   0.889600   0.308977   0.076174   seiz  \n",
              "\n",
              "[5 rows x 25501 columns]"
            ]
          },
          "metadata": {
            "tags": []
          },
          "execution_count": 58
        }
      ]
    },
    {
      "cell_type": "code",
      "metadata": {
        "id": "WKNYBP_V07Tv",
        "colab_type": "code",
        "outputId": "9046185d-9c34-472b-d58a-825ca8c08517",
        "colab": {}
      },
      "source": [
        "# pre-Seizure Dataframe (features,target)\n",
        "df_feat_pz = df_pz.dropna()\n",
        "df_feat_pz['Label'] = 'pre-seiz'\n",
        "df_feat_pz.head()"
      ],
      "execution_count": 0,
      "outputs": [
        {
          "output_type": "stream",
          "text": [
            "C:\\Users\\AI\\AppData\\Local\\Continuum\\anaconda3\\envs\\dlnd\\lib\\site-packages\\ipykernel_launcher.py:2: SettingWithCopyWarning: \n",
            "A value is trying to be set on a copy of a slice from a DataFrame.\n",
            "Try using .loc[row_indexer,col_indexer] = value instead\n",
            "\n",
            "See the caveats in the documentation: http://pandas.pydata.org/pandas-docs/stable/indexing.html#indexing-view-versus-copy\n",
            "  \n"
          ],
          "name": "stderr"
        },
        {
          "output_type": "execute_result",
          "data": {
            "text/html": [
              "<div>\n",
              "<style scoped>\n",
              "    .dataframe tbody tr th:only-of-type {\n",
              "        vertical-align: middle;\n",
              "    }\n",
              "\n",
              "    .dataframe tbody tr th {\n",
              "        vertical-align: top;\n",
              "    }\n",
              "\n",
              "    .dataframe thead th {\n",
              "        text-align: right;\n",
              "    }\n",
              "</style>\n",
              "<table border=\"1\" class=\"dataframe\">\n",
              "  <thead>\n",
              "    <tr style=\"text-align: right;\">\n",
              "      <th></th>\n",
              "      <th>0</th>\n",
              "      <th>1</th>\n",
              "      <th>2</th>\n",
              "      <th>3</th>\n",
              "      <th>4</th>\n",
              "      <th>5</th>\n",
              "      <th>6</th>\n",
              "      <th>7</th>\n",
              "      <th>8</th>\n",
              "      <th>9</th>\n",
              "      <th>...</th>\n",
              "      <th>21037</th>\n",
              "      <th>21038</th>\n",
              "      <th>21039</th>\n",
              "      <th>21040</th>\n",
              "      <th>21041</th>\n",
              "      <th>21042</th>\n",
              "      <th>21043</th>\n",
              "      <th>21044</th>\n",
              "      <th>21045</th>\n",
              "      <th>Label</th>\n",
              "    </tr>\n",
              "  </thead>\n",
              "  <tbody>\n",
              "    <tr>\n",
              "      <th>0</th>\n",
              "      <td>8.905883</td>\n",
              "      <td>8.758427</td>\n",
              "      <td>8.403819</td>\n",
              "      <td>8.223724</td>\n",
              "      <td>8.42067</td>\n",
              "      <td>8.904322</td>\n",
              "      <td>9.429823</td>\n",
              "      <td>9.831089</td>\n",
              "      <td>10.125868</td>\n",
              "      <td>10.421549</td>\n",
              "      <td>...</td>\n",
              "      <td>-3.408902</td>\n",
              "      <td>-5.253094</td>\n",
              "      <td>-6.527473</td>\n",
              "      <td>-7.491537</td>\n",
              "      <td>-8.56837</td>\n",
              "      <td>-9.796126</td>\n",
              "      <td>-10.670526</td>\n",
              "      <td>-10.547622</td>\n",
              "      <td>-9.221112</td>\n",
              "      <td>pre-seiz</td>\n",
              "    </tr>\n",
              "  </tbody>\n",
              "</table>\n",
              "<p>1 rows × 21047 columns</p>\n",
              "</div>"
            ],
            "text/plain": [
              "          0         1         2         3        4         5         6  \\\n",
              "0  8.905883  8.758427  8.403819  8.223724  8.42067  8.904322  9.429823   \n",
              "\n",
              "          7          8          9  ...     21037     21038     21039  \\\n",
              "0  9.831089  10.125868  10.421549  ... -3.408902 -5.253094 -6.527473   \n",
              "\n",
              "      21040    21041     21042      21043      21044     21045     Label  \n",
              "0 -7.491537 -8.56837 -9.796126 -10.670526 -10.547622 -9.221112  pre-seiz  \n",
              "\n",
              "[1 rows x 21047 columns]"
            ]
          },
          "metadata": {
            "tags": []
          },
          "execution_count": 59
        }
      ]
    },
    {
      "cell_type": "code",
      "metadata": {
        "id": "0J0P74zJ07T0",
        "colab_type": "code",
        "colab": {}
      },
      "source": [
        "## TODO: Apllying PCA reduce Dim\n"
      ],
      "execution_count": 0,
      "outputs": []
    },
    {
      "cell_type": "code",
      "metadata": {
        "id": "35BjahsW07T4",
        "colab_type": "code",
        "colab": {}
      },
      "source": [
        "## TODO: Scalling"
      ],
      "execution_count": 0,
      "outputs": []
    },
    {
      "cell_type": "code",
      "metadata": {
        "id": "lgIHutLY07T8",
        "colab_type": "code",
        "colab": {}
      },
      "source": [
        "## TODO: train and validate your model using neural network\n"
      ],
      "execution_count": 0,
      "outputs": []
    },
    {
      "cell_type": "code",
      "metadata": {
        "id": "mzTbK4ib07UD",
        "colab_type": "code",
        "colab": {}
      },
      "source": [
        ""
      ],
      "execution_count": 0,
      "outputs": []
    },
    {
      "cell_type": "code",
      "metadata": {
        "id": "SzzutQPD07UH",
        "colab_type": "code",
        "colab": {}
      },
      "source": [
        ""
      ],
      "execution_count": 0,
      "outputs": []
    }
  ]
}