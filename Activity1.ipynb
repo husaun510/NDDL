{
  "nbformat": 4,
  "nbformat_minor": 0,
  "metadata": {
    "kernelspec": {
      "display_name": "Python 3",
      "language": "python",
      "name": "python3"
    },
    "language_info": {
      "codemirror_mode": {
        "name": "ipython",
        "version": 3
      },
      "file_extension": ".py",
      "mimetype": "text/x-python",
      "name": "python",
      "nbconvert_exporter": "python",
      "pygments_lexer": "ipython3",
      "version": "3.7.7"
    },
    "colab": {
      "name": "Activity1.ipynb",
      "provenance": [],
      "collapsed_sections": [],
      "include_colab_link": true
    }
  },
  "cells": [
    {
      "cell_type": "markdown",
      "metadata": {
        "id": "view-in-github",
        "colab_type": "text"
      },
      "source": [
        "<a href=\"https://colab.research.google.com/github/husaun510/NDDL/blob/master/Activity1.ipynb\" target=\"_parent\"><img src=\"https://colab.research.google.com/assets/colab-badge.svg\" alt=\"Open In Colab\"/></a>"
      ]
    },
    {
      "cell_type": "markdown",
      "metadata": {
        "id": "jnOKC6wg07R9",
        "colab_type": "text"
      },
      "source": [
        "Activity Title : Early Detection of Epilepsy "
      ]
    },
    {
      "cell_type": "markdown",
      "metadata": {
        "id": "pTiec04q07R_",
        "colab_type": "text"
      },
      "source": [
        "Step 1: Downloading the Dataset:\n",
        "use the following link https://neureka-challenge.com/ , you will find all the information in order to understand how to download the dataset.        "
      ]
    },
    {
      "cell_type": "markdown",
      "metadata": {
        "id": "vj8heiUJ07SA",
        "colab_type": "text"
      },
      "source": [
        "Step 2: Installing MNE-Python\n",
        "\n",
        "MNE-Python is an open-source Python module for processing, analysis, and visualization of functional neuroimaging data (such as EEG signals). \n",
        "use the following link to install:\n",
        "https://mne.tools/dev/install/mne_python.html#installing-python"
      ]
    },
    {
      "cell_type": "markdown",
      "metadata": {
        "id": "MV_pJZjh07SB",
        "colab_type": "text"
      },
      "source": [
        "Step 3: Preparing the dataset \n",
        "\n",
        "When you downloading the dataset, you have to looking for the following:\n",
        "    \n",
        "1. The EDF files (training & validation):\n",
        "\n",
        "The edf folder that contain two sub-folders( train for training dataset and dev for validation dataset). \n",
        "\n",
        "2. The Labels files:\n",
        "\n",
        "The _DOCS folder that contain tow text files ( ref_train.txt that including the labels and the event's time for each edf file for training dataset and ref_dev.txt that including the labels and the event's time for each edf file for validation dataset).\n"
      ]
    },
    {
      "cell_type": "code",
      "metadata": {
        "id": "iWtOduGKRmXC",
        "colab_type": "code",
        "colab": {
          "base_uri": "https://localhost:8080/",
          "height": 202
        },
        "outputId": "01128621-a84d-42e2-9651-27e0559575f3"
      },
      "source": [
        "!wget https://raw.githubusercontent.com/mne-tools/mne-python/master/environment.yml"
      ],
      "execution_count": 3,
      "outputs": [
        {
          "output_type": "stream",
          "text": [
            "--2020-05-06 16:47:09--  https://raw.githubusercontent.com/mne-tools/mne-python/master/environment.yml\n",
            "Resolving raw.githubusercontent.com (raw.githubusercontent.com)... 151.101.0.133, 151.101.64.133, 151.101.128.133, ...\n",
            "Connecting to raw.githubusercontent.com (raw.githubusercontent.com)|151.101.0.133|:443... connected.\n",
            "HTTP request sent, awaiting response... 200 OK\n",
            "Length: 717 [text/plain]\n",
            "Saving to: ‘environment.yml’\n",
            "\n",
            "\renvironment.yml       0%[                    ]       0  --.-KB/s               \renvironment.yml     100%[===================>]     717  --.-KB/s    in 0s      \n",
            "\n",
            "2020-05-06 16:47:10 (14.3 MB/s) - ‘environment.yml’ saved [717/717]\n",
            "\n"
          ],
          "name": "stdout"
        }
      ]
    },
    {
      "cell_type": "code",
      "metadata": {
        "id": "VZoHKHtdZK_z",
        "colab_type": "code",
        "colab": {
          "base_uri": "https://localhost:8080/",
          "height": 154
        },
        "outputId": "1d6f1635-e34c-4d7a-f1f3-d342a4bf9a80"
      },
      "source": [
        "!pip install mne --upgrade"
      ],
      "execution_count": 4,
      "outputs": [
        {
          "output_type": "stream",
          "text": [
            "Collecting mne\n",
            "\u001b[?25l  Downloading https://files.pythonhosted.org/packages/a2/1a/8fd2d3b0065597f4aafe9d90eb62db0d40547f818f128349c6878b657302/mne-0.20.3-py3-none-any.whl (6.6MB)\n",
            "\u001b[K     |████████████████████████████████| 6.6MB 2.7MB/s \n",
            "\u001b[?25hRequirement already satisfied, skipping upgrade: numpy>=1.11.3 in /usr/local/lib/python3.6/dist-packages (from mne) (1.18.3)\n",
            "Requirement already satisfied, skipping upgrade: scipy>=0.17.1 in /usr/local/lib/python3.6/dist-packages (from mne) (1.4.1)\n",
            "Installing collected packages: mne\n",
            "Successfully installed mne-0.20.3\n"
          ],
          "name": "stdout"
        }
      ]
    },
    {
      "cell_type": "code",
      "metadata": {
        "id": "EuKQNQvs1MZU",
        "colab_type": "code",
        "colab": {}
      },
      "source": [
        "import requests\n",
        "\n",
        "\n",
        "username = 'nedc_tuh_eeg'\n",
        "password = 'nedc_tuh_eeg'\n",
        "url = 'https://www.isip.piconepress.com/projects/tuh_eeg/downloads/tuh_eeg_seizure/v1.5.1/_DOCS/ref_train.txt'\n",
        "r = requests.get(url, auth=(username, password))  \n",
        "page = r.text\n",
        "file = open(\"ref_train.txt\", \"w\") \n",
        "file.write(page) \n",
        "file.close() \n"
      ],
      "execution_count": 0,
      "outputs": []
    },
    {
      "cell_type": "code",
      "metadata": {
        "id": "1uLwq2DQ07SC",
        "colab_type": "code",
        "colab": {}
      },
      "source": [
        "## Loading the Labels' files\n",
        "\n",
        "import pandas as pd\n",
        "\n",
        "dir_train_label='./ref_train.txt'\n",
        "train_label = pd.read_csv(dir_train_label, sep=\" \", header=None)\n",
        "train_label.columns = ['edf_Name', 'Start_ts_evnt','End_ts_evnt','Label','Conf']\n",
        "\n"
      ],
      "execution_count": 0,
      "outputs": []
    },
    {
      "cell_type": "code",
      "metadata": {
        "id": "trPggHeY07SN",
        "colab_type": "code",
        "colab": {
          "base_uri": "https://localhost:8080/",
          "height": 195
        },
        "outputId": "4a3afdb6-989a-4ba1-e407-e3147f13ae9d"
      },
      "source": [
        "train_label.head()"
      ],
      "execution_count": 7,
      "outputs": [
        {
          "output_type": "execute_result",
          "data": {
            "text/html": [
              "<div>\n",
              "<style scoped>\n",
              "    .dataframe tbody tr th:only-of-type {\n",
              "        vertical-align: middle;\n",
              "    }\n",
              "\n",
              "    .dataframe tbody tr th {\n",
              "        vertical-align: top;\n",
              "    }\n",
              "\n",
              "    .dataframe thead th {\n",
              "        text-align: right;\n",
              "    }\n",
              "</style>\n",
              "<table border=\"1\" class=\"dataframe\">\n",
              "  <thead>\n",
              "    <tr style=\"text-align: right;\">\n",
              "      <th></th>\n",
              "      <th>edf_Name</th>\n",
              "      <th>Start_ts_evnt</th>\n",
              "      <th>End_ts_evnt</th>\n",
              "      <th>Label</th>\n",
              "      <th>Conf</th>\n",
              "    </tr>\n",
              "  </thead>\n",
              "  <tbody>\n",
              "    <tr>\n",
              "      <th>0</th>\n",
              "      <td>00000077_s003_t000</td>\n",
              "      <td>0.0</td>\n",
              "      <td>1205.0</td>\n",
              "      <td>bckg</td>\n",
              "      <td>1.0</td>\n",
              "    </tr>\n",
              "    <tr>\n",
              "      <th>1</th>\n",
              "      <td>00000254_s005_t000</td>\n",
              "      <td>0.0</td>\n",
              "      <td>1442.0</td>\n",
              "      <td>bckg</td>\n",
              "      <td>1.0</td>\n",
              "    </tr>\n",
              "    <tr>\n",
              "      <th>2</th>\n",
              "      <td>00000254_s006_t001</td>\n",
              "      <td>0.0</td>\n",
              "      <td>1197.0</td>\n",
              "      <td>bckg</td>\n",
              "      <td>1.0</td>\n",
              "    </tr>\n",
              "    <tr>\n",
              "      <th>3</th>\n",
              "      <td>00000254_s007_t000</td>\n",
              "      <td>0.0</td>\n",
              "      <td>1244.0</td>\n",
              "      <td>bckg</td>\n",
              "      <td>1.0</td>\n",
              "    </tr>\n",
              "    <tr>\n",
              "      <th>4</th>\n",
              "      <td>00000272_s007_t000</td>\n",
              "      <td>0.0</td>\n",
              "      <td>194.0</td>\n",
              "      <td>bckg</td>\n",
              "      <td>1.0</td>\n",
              "    </tr>\n",
              "  </tbody>\n",
              "</table>\n",
              "</div>"
            ],
            "text/plain": [
              "             edf_Name  Start_ts_evnt  End_ts_evnt Label  Conf\n",
              "0  00000077_s003_t000            0.0       1205.0  bckg   1.0\n",
              "1  00000254_s005_t000            0.0       1442.0  bckg   1.0\n",
              "2  00000254_s006_t001            0.0       1197.0  bckg   1.0\n",
              "3  00000254_s007_t000            0.0       1244.0  bckg   1.0\n",
              "4  00000272_s007_t000            0.0        194.0  bckg   1.0"
            ]
          },
          "metadata": {
            "tags": []
          },
          "execution_count": 7
        }
      ]
    },
    {
      "cell_type": "code",
      "metadata": {
        "id": "w8pli5MA07SU",
        "colab_type": "code",
        "colab": {
          "base_uri": "https://localhost:8080/",
          "height": 34
        },
        "outputId": "b73e85e1-34d9-49c4-8935-efdd47eeacfe"
      },
      "source": [
        "train_label['Label'][36]"
      ],
      "execution_count": 8,
      "outputs": [
        {
          "output_type": "execute_result",
          "data": {
            "text/plain": [
              "'seiz'"
            ]
          },
          "metadata": {
            "tags": []
          },
          "execution_count": 8
        }
      ]
    },
    {
      "cell_type": "code",
      "metadata": {
        "id": "GjqagrAN07Sa",
        "colab_type": "code",
        "colab": {}
      },
      "source": [
        "url = 'https://www.isip.piconepress.com/projects/tuh_eeg/downloads/tuh_eeg_seizure/v1.5.1/_DOCS/ref_dev.txt'\n",
        "r = requests.get(url, auth=(username, password))  \n",
        "page = r.text\n",
        "file = open(\"ref_dev.txt\", \"w\") \n",
        "file.write(page) \n",
        "file.close() \n",
        "\n",
        "dir_valid_label='./ref_train.txt'\n",
        "#dir_valid_label= #'C:/users/ai/Desktop/v1.5.1/_DOCS/ref_dev.txt'\n",
        "valid_label = pd.read_csv(dir_valid_label, sep=\" \", header=None)\n",
        "valid_label.columns = ['edf_Name', 'Start_ts_evnt','End_ts_evnt','Label','Conf']"
      ],
      "execution_count": 0,
      "outputs": []
    },
    {
      "cell_type": "code",
      "metadata": {
        "id": "PLT_aymD07Sf",
        "colab_type": "code",
        "colab": {
          "base_uri": "https://localhost:8080/",
          "height": 195
        },
        "outputId": "f8541f15-4365-4d74-b60b-359c0c9b6487"
      },
      "source": [
        "valid_label.head()"
      ],
      "execution_count": 10,
      "outputs": [
        {
          "output_type": "execute_result",
          "data": {
            "text/html": [
              "<div>\n",
              "<style scoped>\n",
              "    .dataframe tbody tr th:only-of-type {\n",
              "        vertical-align: middle;\n",
              "    }\n",
              "\n",
              "    .dataframe tbody tr th {\n",
              "        vertical-align: top;\n",
              "    }\n",
              "\n",
              "    .dataframe thead th {\n",
              "        text-align: right;\n",
              "    }\n",
              "</style>\n",
              "<table border=\"1\" class=\"dataframe\">\n",
              "  <thead>\n",
              "    <tr style=\"text-align: right;\">\n",
              "      <th></th>\n",
              "      <th>edf_Name</th>\n",
              "      <th>Start_ts_evnt</th>\n",
              "      <th>End_ts_evnt</th>\n",
              "      <th>Label</th>\n",
              "      <th>Conf</th>\n",
              "    </tr>\n",
              "  </thead>\n",
              "  <tbody>\n",
              "    <tr>\n",
              "      <th>0</th>\n",
              "      <td>00000077_s003_t000</td>\n",
              "      <td>0.0</td>\n",
              "      <td>1205.0</td>\n",
              "      <td>bckg</td>\n",
              "      <td>1.0</td>\n",
              "    </tr>\n",
              "    <tr>\n",
              "      <th>1</th>\n",
              "      <td>00000254_s005_t000</td>\n",
              "      <td>0.0</td>\n",
              "      <td>1442.0</td>\n",
              "      <td>bckg</td>\n",
              "      <td>1.0</td>\n",
              "    </tr>\n",
              "    <tr>\n",
              "      <th>2</th>\n",
              "      <td>00000254_s006_t001</td>\n",
              "      <td>0.0</td>\n",
              "      <td>1197.0</td>\n",
              "      <td>bckg</td>\n",
              "      <td>1.0</td>\n",
              "    </tr>\n",
              "    <tr>\n",
              "      <th>3</th>\n",
              "      <td>00000254_s007_t000</td>\n",
              "      <td>0.0</td>\n",
              "      <td>1244.0</td>\n",
              "      <td>bckg</td>\n",
              "      <td>1.0</td>\n",
              "    </tr>\n",
              "    <tr>\n",
              "      <th>4</th>\n",
              "      <td>00000272_s007_t000</td>\n",
              "      <td>0.0</td>\n",
              "      <td>194.0</td>\n",
              "      <td>bckg</td>\n",
              "      <td>1.0</td>\n",
              "    </tr>\n",
              "  </tbody>\n",
              "</table>\n",
              "</div>"
            ],
            "text/plain": [
              "             edf_Name  Start_ts_evnt  End_ts_evnt Label  Conf\n",
              "0  00000077_s003_t000            0.0       1205.0  bckg   1.0\n",
              "1  00000254_s005_t000            0.0       1442.0  bckg   1.0\n",
              "2  00000254_s006_t001            0.0       1197.0  bckg   1.0\n",
              "3  00000254_s007_t000            0.0       1244.0  bckg   1.0\n",
              "4  00000272_s007_t000            0.0        194.0  bckg   1.0"
            ]
          },
          "metadata": {
            "tags": []
          },
          "execution_count": 10
        }
      ]
    },
    {
      "cell_type": "code",
      "metadata": {
        "id": "F9ufx4JO07Sm",
        "colab_type": "code",
        "colab": {}
      },
      "source": [
        "## Create the list that including all the edf files for training and validation datasets\n",
        "import numpy as np\n",
        "train_edf = train_label[\"edf_Name\"]\n",
        "valid_edf = valid_label[\"edf_Name\"]\n",
        "\n",
        "list_train_edf = []\n",
        "i=0\n",
        "while i < len(train_edf):\n",
        "    list_train_edf.append(train_edf.iloc[i])\n",
        "    i+=1\n",
        "\n",
        "# TODO: complete for the validation\n",
        "list_valid_edf = []\n",
        "i=0\n",
        "while i < len(valid_edf):\n",
        "    list_valid_edf.append(valid_edf.iloc[i])\n",
        "    i+=1"
      ],
      "execution_count": 0,
      "outputs": []
    },
    {
      "cell_type": "code",
      "metadata": {
        "id": "wto2mVxz07Ss",
        "colab_type": "code",
        "colab": {
          "base_uri": "https://localhost:8080/",
          "height": 34
        },
        "outputId": "12348ebd-edd0-4e11-b942-a6a89160ccee"
      },
      "source": [
        "len(list_train_edf)"
      ],
      "execution_count": 73,
      "outputs": [
        {
          "output_type": "execute_result",
          "data": {
            "text/plain": [
              "9337"
            ]
          },
          "metadata": {
            "tags": []
          },
          "execution_count": 73
        }
      ]
    },
    {
      "cell_type": "code",
      "metadata": {
        "id": "FIdUOWSb07S1",
        "colab_type": "code",
        "colab": {
          "base_uri": "https://localhost:8080/",
          "height": 67
        },
        "outputId": "c015057c-576b-442e-e483-2e9560234f25"
      },
      "source": [
        "# Create the selected channels' names list \n",
        "\n",
        "tcp_ar = ['EEG FP1-REF', 'EEG FP2-REF', 'EEG F3-REF', 'EEG F4-REF', 'EEG C3-REF', 'EEG C4-REF', 'EEG P3-REF', 'EEG P4-REF', 'EEG O1-REF', 'EEG O2-REF', 'EEG F8-REF', 'EEG T3-REF', 'EEG T4-REF', 'EEG T5-REF', 'EEG T6-REF', 'EEG FZ-REF', 'EEG CZ-REF']\n",
        "tcp_le = ['EEG FP1-LE', 'EEG FP2-LE', 'EEG F3-LE', 'EEG F4-LE', 'EEG C3-LE', 'EEG C4-LE', 'EEG P3-LE', 'EEG P4-LE', 'EEG O1-LE', 'EEG O2-LE', 'EEG F7-LE', 'EEG F8-LE', 'EEG T3-LE', 'EEG T4-LE', 'EEG T5-LE', 'EEG T6-LE',  'EEG CZ-LE']\n",
        "tcp_ar_a = ['EEG FP1-REF', 'EEG FP2-REF', 'EEG F3-REF', 'EEG F4-REF', 'EEG C3-REF', 'EEG C4-REF', 'EEG P3-REF', 'EEG P4-REF', 'EEG O1-REF', 'EEG O2-REF', 'EEG F7-REF', 'EEG F8-REF', 'EEG T3-REF', 'EEG T4-REF', 'EEG T5-REF', 'EEG T6-REF', 'EEG CZ-REF']\n",
        "print(len(tcp_ar))\n",
        "print(len(tcp_le))\n",
        "print(len(tcp_ar_a))"
      ],
      "execution_count": 74,
      "outputs": [
        {
          "output_type": "stream",
          "text": [
            "17\n",
            "17\n",
            "17\n"
          ],
          "name": "stdout"
        }
      ]
    },
    {
      "cell_type": "code",
      "metadata": {
        "id": "Fk7wBPJj07S7",
        "colab_type": "code",
        "colab": {}
      },
      "source": [
        "# this function helps to find the file by searching through the given path\n",
        "\n",
        "import os, fnmatch\n",
        "\n",
        "def find(pattern, path):\n",
        "    result = []\n",
        "    for root, dirs, files in os.walk(path):\n",
        "        for name in files:\n",
        "            if fnmatch.fnmatch(name, pattern):\n",
        "                result.append(os.path.join(root, name))\n",
        "    return result"
      ],
      "execution_count": 0,
      "outputs": []
    },
    {
      "cell_type": "code",
      "metadata": {
        "id": "pfa_s0fisKVw",
        "colab_type": "code",
        "colab": {}
      },
      "source": [
        "from bs4 import BeautifulSoup\n",
        "import pdb\n",
        "\n",
        "edf_train_path = []\n",
        "i = 0 \n",
        "\n",
        "def find_web_dic(path):\n",
        "    global i \n",
        "    result = []\n",
        "    url = path\n",
        "    r = requests.get(url, auth=(username, password))  \n",
        "    page = r.text\n",
        "\n",
        "    html_text = page\n",
        "    soup = BeautifulSoup(html_text, 'html.parser')\n",
        "\n",
        "    for link in soup.find_all('a') :\n",
        "            if link.get('href')[0] != '/' and  link.get('href')[0] != '?' and not link.get('href').endswith('.com'):\n",
        "              if link.get('href').endswith('/'):\n",
        "                \n",
        "                if i > 15: # iteration of edf\n",
        "                  break\n",
        "                else:\n",
        "                  i += 1\n",
        "               \n",
        "                find_web_dic(path+link.get('href'))\n",
        "              else :\n",
        "                if link.get('href').endswith('.edf'):\n",
        "                  print(link.get('href'))\n",
        "                  edf_train_path.append(link.get('href'))\n",
        "                  file = open(link.get('href'), \"wb\") \n",
        "                  url = path+link.get('href')\n",
        "                  print(url)\n",
        "                  r = requests.get(url, auth=(username, password))  \n",
        "                 \n",
        "                  page = r.content\n",
        "                  #print(page)\n",
        "                  file.write(page) \n",
        "                  file.close() \n",
        "                  break   \n",
        "    #return result"
      ],
      "execution_count": 0,
      "outputs": []
    },
    {
      "cell_type": "code",
      "metadata": {
        "id": "FHlENKx3tf0b",
        "colab_type": "code",
        "colab": {
          "base_uri": "https://localhost:8080/",
          "height": 306
        },
        "outputId": "bc8a62e6-1196-4438-cd76-bcdbf9412493"
      },
      "source": [
        "\n",
        "find_web_dic(\"https://www.isip.piconepress.com/projects/tuh_eeg/downloads/tuh_eeg_seizure/v1.5.1/edf/train/\")\n"
      ],
      "execution_count": 80,
      "outputs": [
        {
          "output_type": "stream",
          "text": [
            "00000077_s003_t000.edf\n",
            "https://www.isip.piconepress.com/projects/tuh_eeg/downloads/tuh_eeg_seizure/v1.5.1/edf/train/01_tcp_ar/000/00000077/s003_2010_01_21/00000077_s003_t000.edf\n",
            "00000254_s005_t000.edf\n",
            "https://www.isip.piconepress.com/projects/tuh_eeg/downloads/tuh_eeg_seizure/v1.5.1/edf/train/01_tcp_ar/002/00000254/s005_2010_11_15/00000254_s005_t000.edf\n",
            "00000254_s006_t001.edf\n",
            "https://www.isip.piconepress.com/projects/tuh_eeg/downloads/tuh_eeg_seizure/v1.5.1/edf/train/01_tcp_ar/002/00000254/s006_2011_07_01/00000254_s006_t001.edf\n",
            "00000254_s007_t000.edf\n",
            "https://www.isip.piconepress.com/projects/tuh_eeg/downloads/tuh_eeg_seizure/v1.5.1/edf/train/01_tcp_ar/002/00000254/s007_2013_03_25/00000254_s007_t000.edf\n",
            "00000272_s007_t000.edf\n",
            "https://www.isip.piconepress.com/projects/tuh_eeg/downloads/tuh_eeg_seizure/v1.5.1/edf/train/01_tcp_ar/002/00000272/s007_2003_07_03/00000272_s007_t000.edf\n",
            "00000272_s008_t000.edf\n",
            "https://www.isip.piconepress.com/projects/tuh_eeg/downloads/tuh_eeg_seizure/v1.5.1/edf/train/01_tcp_ar/002/00000272/s008_2003_07_03/00000272_s008_t000.edf\n",
            "00000458_s005_t000.edf\n",
            "https://www.isip.piconepress.com/projects/tuh_eeg/downloads/tuh_eeg_seizure/v1.5.1/edf/train/01_tcp_ar/004/00000458/s005_2003_02_12/00000458_s005_t000.edf\n",
            "00000458_s011_t000.edf\n",
            "https://www.isip.piconepress.com/projects/tuh_eeg/downloads/tuh_eeg_seizure/v1.5.1/edf/train/01_tcp_ar/004/00000458/s011_2014_06_24/00000458_s011_t000.edf\n"
          ],
          "name": "stdout"
        }
      ]
    },
    {
      "cell_type": "code",
      "metadata": {
        "id": "OKtwwm-V-oYN",
        "colab_type": "code",
        "colab": {
          "base_uri": "https://localhost:8080/",
          "height": 34
        },
        "outputId": "9691f555-8d0c-400f-9620-8ceaa619319b"
      },
      "source": [
        "print(len(edf_train_path))"
      ],
      "execution_count": 81,
      "outputs": [
        {
          "output_type": "stream",
          "text": [
            "8\n"
          ],
          "name": "stdout"
        }
      ]
    },
    {
      "cell_type": "code",
      "metadata": {
        "id": "Nd3HMEwu07S_",
        "colab_type": "code",
        "colab": {}
      },
      "source": [
        "\n",
        "\n",
        "# create the list of edf files path ( train/valid) by using the find function above\n",
        "#pathy = \" \" # insert the path of two datasets ( /train & /edv )\n",
        "#pathy = 'C:/users/ai/Desktop/v1.5.1/edf/train/'\n",
        "#edf_train_path = []\n",
        "#i=0\n",
        "#while i < len(list_train_edf[1:50]):\n",
        "#    edf_train_path.append(find(list_train_edf[i]+'.edf',pathy))\n",
        "#    i+=1\n",
        "    \n",
        "## TODO: complete the edf_valid_path\n"
      ],
      "execution_count": 0,
      "outputs": []
    },
    {
      "cell_type": "code",
      "metadata": {
        "id": "QZrmad9A07TF",
        "colab_type": "code",
        "colab": {
          "base_uri": "https://localhost:8080/",
          "height": 34
        },
        "outputId": "6a2d0122-7e3e-4508-d87e-b559f85f1756"
      },
      "source": [
        "edf_train_path[0]"
      ],
      "execution_count": 82,
      "outputs": [
        {
          "output_type": "execute_result",
          "data": {
            "text/plain": [
              "'00000077_s003_t000.edf'"
            ]
          },
          "metadata": {
            "tags": []
          },
          "execution_count": 82
        }
      ]
    },
    {
      "cell_type": "code",
      "metadata": {
        "id": "6lNpuykE07TN",
        "colab_type": "code",
        "colab": {}
      },
      "source": [
        "## Load and read the edf file by using mne module \n",
        "\n",
        "import os\n",
        "import numpy as np\n",
        "import pandas as pd\n",
        "import matplotlib.pyplot as plt\n",
        "import mne\n",
        "from mne.io import concatenate_raws, read_raw_edf\n",
        "\n",
        "%matplotlib inline \n"
      ],
      "execution_count": 0,
      "outputs": []
    },
    {
      "cell_type": "code",
      "metadata": {
        "id": "EJJjrAfV07TS",
        "colab_type": "code",
        "colab": {}
      },
      "source": [
        "## TODO: Create function for reading the edf file, resampling it to 250Hz,...\n",
        "## save to dataframe, using train_label & valid_label to extract the event time of each label\n",
        "## (background, pre-seizure and seizure) and return the dic or dataframe with features and labels\n",
        "\n",
        "def xyz(path,sFreq = 250,low_freq = 0.5 ,hi_freq = 40):\n",
        "   # sFreq: sampling frequency = 250 Hz\n",
        "   # low_freq,hi_freq for bandpass filter to extract the features frequency-based \n",
        "    path = edf_train_path\n",
        "    df_b = pd.DataFrame()\n",
        "    df_s = pd.DataFrame()\n",
        "    df_pz = pd.DataFrame()\n",
        "    i = 0\n",
        "    #import pdb\n",
        "    #pdb.set_trace()\n",
        "\n",
        "    while i < len(path):\n",
        "        \n",
        "        #raw = mne.io.read_raw_edf((', '.join(path[i])),preload=True,)\n",
        "        raw = mne.io.read_raw_edf(\"/content/\"+path[i],preload=True,)\n",
        "        raw = raw.resample(sFreq, npad='auto')\n",
        "        raw = raw.filter(low_freq, hi_freq, fir_design='firwin', skip_by_annotation='edge')\n",
        "        raw = raw.to_data_frame() # save to dataframe\n",
        "        \n",
        "        ## TODO using train_label & valid_label to extract the event time of each label\n",
        "## (background, pre-seizure and seizure) and return the dic or dataframe with features and labels\n",
        "        \n",
        "        if 'EEG FP1-le' in raw.columns:\n",
        "            j=0 \n",
        "            feat_b = []\n",
        "            feat_s = []\n",
        "            feat_pz= []\n",
        "            while j < len(tcp_le):\n",
        "                feat = raw[tcp_le[j]].tolist()\n",
        "                if train_label['Label'][i] == 'bckg':\n",
        "                    feat1 = feat[slice(int(train_label['Start_ts_evnt'][i].item())+10*250 , 15*250)]\n",
        "                    for x in feat1:\n",
        "                        feat_b.append(x)\n",
        "                        \n",
        "                elif train_label['Label'][i] == 'seiz':\n",
        "                    feat2 = feat[slice(int(train_label['Start_ts_evnt'][i].item()),int(train_label['Start_ts_evnt'][i].item())+5*250)]\n",
        "                    for x in feat2:\n",
        "                        feat_s.append(x)\n",
        "                    \n",
        "                    feat3 = feat[slice(int(train_label['Start_ts_evnt'][i].item())-5*250,-int(train_label['Start_ts_evnt'][i].item()))]\n",
        "                    for x in feat3:\n",
        "                        feat_pz.append(x)\n",
        "                j+=1\n",
        "                                 \n",
        "            ft_b = pd.DataFrame([feat_b])\n",
        "            df_b = df_b.append(ft_b)\n",
        "            ft_s = pd.DataFrame([feat_s])\n",
        "            df_s = df_s.append(ft_s)\n",
        "            ft_pz = pd.DataFrame([feat_pz])\n",
        "            df_pz = df_pz.append(ft_pz)\n",
        "            \n",
        "        else:\n",
        "            \n",
        "            j=0 \n",
        "            feat_b = []\n",
        "            feat_s = []\n",
        "            feat_pz= []\n",
        "            while j < len(tcp_ar):\n",
        "                feat = raw[tcp_ar[j]].tolist()\n",
        "                if train_label['Label'][i] == 'bckg':\n",
        "                    feat1 = feat[slice(int(train_label['Start_ts_evnt'][i].item())+10*250 , 15*250)]\n",
        "                    for x in feat1:\n",
        "                        feat_b.append(x)\n",
        "                        \n",
        "                elif train_label['Label'][i] == 'seiz':\n",
        "                    feat2 = feat[slice(int(train_label['Start_ts_evnt'][i].item()),int(train_label['Start_ts_evnt'][i].item())+6*250)]\n",
        "                    for x in feat2:\n",
        "                        feat_s.append(x)\n",
        "                    \n",
        "                    feat3 = feat[slice(int(train_label['Start_ts_evnt'][i].item())-5*250,-int(train_label['Start_ts_evnt'][i].item()))]\n",
        "                    for x in feat3:\n",
        "                        feat_pz.append(x)\n",
        "                    \n",
        "                j+=1\n",
        "                                 \n",
        "        ft_b = pd.DataFrame([feat_b])\n",
        "        df_b = df_b.append(ft_b)\n",
        "        ft_s = pd.DataFrame([feat_s])\n",
        "        df_s = df_s.append(ft_s)\n",
        "        ft_pz = pd.DataFrame([feat_pz])\n",
        "        df_pz = df_pz.append(ft_pz)\n",
        "        i+=1\n",
        "    \n",
        "        #df = feat_b.append(feat_s)\n",
        "        #df.append(feat_pz)\n",
        "    return df_b,df_s,df_pz"
      ],
      "execution_count": 0,
      "outputs": []
    },
    {
      "cell_type": "code",
      "metadata": {
        "id": "ZuubcV1G07TX",
        "colab_type": "code",
        "colab": {
          "base_uri": "https://localhost:8080/",
          "height": 1000
        },
        "outputId": "f523dec5-4c69-4b34-f079-4e7106f258b2"
      },
      "source": [
        "#edf_train_path = \"/content/00000254_s005_t000.edf\"\n",
        "\n",
        "\n",
        "df_b,df_s,df_pz= xyz('/content')\n"
      ],
      "execution_count": 104,
      "outputs": [
        {
          "output_type": "stream",
          "text": [
            "Extracting EDF parameters from /content/00000077_s003_t000.edf...\n",
            "EDF file detected\n",
            "Setting channel info structure...\n",
            "Creating raw.info structure...\n",
            "Reading 0 ... 301249  =      0.000 ...  1204.996 secs...\n",
            "Filtering raw data in 1 contiguous segment\n",
            "Setting up band-pass filter from 0.5 - 40 Hz\n",
            "\n",
            "FIR filter parameters\n",
            "---------------------\n",
            "Designing a one-pass, zero-phase, non-causal bandpass filter:\n",
            "- Windowed time-domain design (firwin) method\n",
            "- Hamming window with 0.0194 passband ripple and 53 dB stopband attenuation\n",
            "- Lower passband edge: 0.50\n",
            "- Lower transition bandwidth: 0.50 Hz (-6 dB cutoff frequency: 0.25 Hz)\n",
            "- Upper passband edge: 40.00 Hz\n",
            "- Upper transition bandwidth: 10.00 Hz (-6 dB cutoff frequency: 45.00 Hz)\n",
            "- Filter length: 1651 samples (6.604 sec)\n",
            "\n",
            "Extracting EDF parameters from /content/00000254_s005_t000.edf...\n",
            "EDF file detected\n",
            "Setting channel info structure...\n",
            "Creating raw.info structure...\n",
            "Reading 0 ... 360499  =      0.000 ...  1441.996 secs...\n",
            "Filtering raw data in 1 contiguous segment\n",
            "Setting up band-pass filter from 0.5 - 40 Hz\n",
            "\n",
            "FIR filter parameters\n",
            "---------------------\n",
            "Designing a one-pass, zero-phase, non-causal bandpass filter:\n",
            "- Windowed time-domain design (firwin) method\n",
            "- Hamming window with 0.0194 passband ripple and 53 dB stopband attenuation\n",
            "- Lower passband edge: 0.50\n",
            "- Lower transition bandwidth: 0.50 Hz (-6 dB cutoff frequency: 0.25 Hz)\n",
            "- Upper passband edge: 40.00 Hz\n",
            "- Upper transition bandwidth: 10.00 Hz (-6 dB cutoff frequency: 45.00 Hz)\n",
            "- Filter length: 1651 samples (6.604 sec)\n",
            "\n",
            "Extracting EDF parameters from /content/00000254_s006_t001.edf...\n",
            "EDF file detected\n",
            "Setting channel info structure...\n",
            "Creating raw.info structure...\n",
            "Reading 0 ... 299249  =      0.000 ...  1196.996 secs...\n",
            "Filtering raw data in 1 contiguous segment\n",
            "Setting up band-pass filter from 0.5 - 40 Hz\n",
            "\n",
            "FIR filter parameters\n",
            "---------------------\n",
            "Designing a one-pass, zero-phase, non-causal bandpass filter:\n",
            "- Windowed time-domain design (firwin) method\n",
            "- Hamming window with 0.0194 passband ripple and 53 dB stopband attenuation\n",
            "- Lower passband edge: 0.50\n",
            "- Lower transition bandwidth: 0.50 Hz (-6 dB cutoff frequency: 0.25 Hz)\n",
            "- Upper passband edge: 40.00 Hz\n",
            "- Upper transition bandwidth: 10.00 Hz (-6 dB cutoff frequency: 45.00 Hz)\n",
            "- Filter length: 1651 samples (6.604 sec)\n",
            "\n",
            "Extracting EDF parameters from /content/00000254_s007_t000.edf...\n",
            "EDF file detected\n",
            "Setting channel info structure...\n",
            "Creating raw.info structure...\n",
            "Reading 0 ... 310999  =      0.000 ...  1243.996 secs...\n",
            "Filtering raw data in 1 contiguous segment\n",
            "Setting up band-pass filter from 0.5 - 40 Hz\n",
            "\n",
            "FIR filter parameters\n",
            "---------------------\n",
            "Designing a one-pass, zero-phase, non-causal bandpass filter:\n",
            "- Windowed time-domain design (firwin) method\n",
            "- Hamming window with 0.0194 passband ripple and 53 dB stopband attenuation\n",
            "- Lower passband edge: 0.50\n",
            "- Lower transition bandwidth: 0.50 Hz (-6 dB cutoff frequency: 0.25 Hz)\n",
            "- Upper passband edge: 40.00 Hz\n",
            "- Upper transition bandwidth: 10.00 Hz (-6 dB cutoff frequency: 45.00 Hz)\n",
            "- Filter length: 1651 samples (6.604 sec)\n",
            "\n",
            "Extracting EDF parameters from /content/00000272_s007_t000.edf...\n",
            "EDF file detected\n",
            "Setting channel info structure...\n",
            "Creating raw.info structure...\n",
            "Reading 0 ... 77599  =      0.000 ...   193.998 secs...\n",
            "Filtering raw data in 1 contiguous segment\n",
            "Setting up band-pass filter from 0.5 - 40 Hz\n",
            "\n",
            "FIR filter parameters\n",
            "---------------------\n",
            "Designing a one-pass, zero-phase, non-causal bandpass filter:\n",
            "- Windowed time-domain design (firwin) method\n",
            "- Hamming window with 0.0194 passband ripple and 53 dB stopband attenuation\n",
            "- Lower passband edge: 0.50\n",
            "- Lower transition bandwidth: 0.50 Hz (-6 dB cutoff frequency: 0.25 Hz)\n",
            "- Upper passband edge: 40.00 Hz\n",
            "- Upper transition bandwidth: 10.00 Hz (-6 dB cutoff frequency: 45.00 Hz)\n",
            "- Filter length: 1651 samples (6.604 sec)\n",
            "\n",
            "Extracting EDF parameters from /content/00000272_s008_t000.edf...\n",
            "EDF file detected\n",
            "Setting channel info structure...\n",
            "Creating raw.info structure...\n",
            "Reading 0 ... 121999  =      0.000 ...   304.998 secs...\n",
            "Filtering raw data in 1 contiguous segment\n",
            "Setting up band-pass filter from 0.5 - 40 Hz\n",
            "\n",
            "FIR filter parameters\n",
            "---------------------\n",
            "Designing a one-pass, zero-phase, non-causal bandpass filter:\n",
            "- Windowed time-domain design (firwin) method\n",
            "- Hamming window with 0.0194 passband ripple and 53 dB stopband attenuation\n",
            "- Lower passband edge: 0.50\n",
            "- Lower transition bandwidth: 0.50 Hz (-6 dB cutoff frequency: 0.25 Hz)\n",
            "- Upper passband edge: 40.00 Hz\n",
            "- Upper transition bandwidth: 10.00 Hz (-6 dB cutoff frequency: 45.00 Hz)\n",
            "- Filter length: 1651 samples (6.604 sec)\n",
            "\n",
            "Extracting EDF parameters from /content/00000458_s005_t000.edf...\n",
            "EDF file detected\n",
            "Setting channel info structure...\n",
            "Creating raw.info structure...\n",
            "Reading 0 ... 276799  =      0.000 ...   691.997 secs...\n",
            "Filtering raw data in 1 contiguous segment\n",
            "Setting up band-pass filter from 0.5 - 40 Hz\n",
            "\n",
            "FIR filter parameters\n",
            "---------------------\n",
            "Designing a one-pass, zero-phase, non-causal bandpass filter:\n",
            "- Windowed time-domain design (firwin) method\n",
            "- Hamming window with 0.0194 passband ripple and 53 dB stopband attenuation\n",
            "- Lower passband edge: 0.50\n",
            "- Lower transition bandwidth: 0.50 Hz (-6 dB cutoff frequency: 0.25 Hz)\n",
            "- Upper passband edge: 40.00 Hz\n",
            "- Upper transition bandwidth: 10.00 Hz (-6 dB cutoff frequency: 45.00 Hz)\n",
            "- Filter length: 1651 samples (6.604 sec)\n",
            "\n",
            "Extracting EDF parameters from /content/00000458_s011_t000.edf...\n",
            "EDF file detected\n",
            "Setting channel info structure...\n",
            "Creating raw.info structure...\n",
            "Reading 0 ... 76799  =      0.000 ...   299.996 secs...\n",
            "Filtering raw data in 1 contiguous segment\n",
            "Setting up band-pass filter from 0.5 - 40 Hz\n",
            "\n",
            "FIR filter parameters\n",
            "---------------------\n",
            "Designing a one-pass, zero-phase, non-causal bandpass filter:\n",
            "- Windowed time-domain design (firwin) method\n",
            "- Hamming window with 0.0194 passband ripple and 53 dB stopband attenuation\n",
            "- Lower passband edge: 0.50\n",
            "- Lower transition bandwidth: 0.50 Hz (-6 dB cutoff frequency: 0.25 Hz)\n",
            "- Upper passband edge: 40.00 Hz\n",
            "- Upper transition bandwidth: 10.00 Hz (-6 dB cutoff frequency: 45.00 Hz)\n",
            "- Filter length: 1651 samples (6.604 sec)\n",
            "\n"
          ],
          "name": "stdout"
        }
      ]
    },
    {
      "cell_type": "code",
      "metadata": {
        "id": "6x8spBkR07Tc",
        "colab_type": "code",
        "colab": {
          "base_uri": "https://localhost:8080/",
          "height": 244
        },
        "outputId": "3400a03a-1402-4f75-c149-cdc29b82ad52"
      },
      "source": [
        "# Background Dataframe (features,target)\n",
        "df_feat_b = df_b.dropna()\n",
        "df_feat_b['Label'] = 'bckg'\n",
        "df_feat_b.head()"
      ],
      "execution_count": 105,
      "outputs": [
        {
          "output_type": "execute_result",
          "data": {
            "text/html": [
              "<div>\n",
              "<style scoped>\n",
              "    .dataframe tbody tr th:only-of-type {\n",
              "        vertical-align: middle;\n",
              "    }\n",
              "\n",
              "    .dataframe tbody tr th {\n",
              "        vertical-align: top;\n",
              "    }\n",
              "\n",
              "    .dataframe thead th {\n",
              "        text-align: right;\n",
              "    }\n",
              "</style>\n",
              "<table border=\"1\" class=\"dataframe\">\n",
              "  <thead>\n",
              "    <tr style=\"text-align: right;\">\n",
              "      <th></th>\n",
              "      <th>0</th>\n",
              "      <th>1</th>\n",
              "      <th>2</th>\n",
              "      <th>3</th>\n",
              "      <th>4</th>\n",
              "      <th>5</th>\n",
              "      <th>6</th>\n",
              "      <th>7</th>\n",
              "      <th>8</th>\n",
              "      <th>9</th>\n",
              "      <th>10</th>\n",
              "      <th>11</th>\n",
              "      <th>12</th>\n",
              "      <th>13</th>\n",
              "      <th>14</th>\n",
              "      <th>15</th>\n",
              "      <th>16</th>\n",
              "      <th>17</th>\n",
              "      <th>18</th>\n",
              "      <th>19</th>\n",
              "      <th>20</th>\n",
              "      <th>21</th>\n",
              "      <th>22</th>\n",
              "      <th>23</th>\n",
              "      <th>24</th>\n",
              "      <th>25</th>\n",
              "      <th>26</th>\n",
              "      <th>27</th>\n",
              "      <th>28</th>\n",
              "      <th>29</th>\n",
              "      <th>30</th>\n",
              "      <th>31</th>\n",
              "      <th>32</th>\n",
              "      <th>33</th>\n",
              "      <th>34</th>\n",
              "      <th>35</th>\n",
              "      <th>36</th>\n",
              "      <th>37</th>\n",
              "      <th>38</th>\n",
              "      <th>39</th>\n",
              "      <th>...</th>\n",
              "      <th>21211</th>\n",
              "      <th>21212</th>\n",
              "      <th>21213</th>\n",
              "      <th>21214</th>\n",
              "      <th>21215</th>\n",
              "      <th>21216</th>\n",
              "      <th>21217</th>\n",
              "      <th>21218</th>\n",
              "      <th>21219</th>\n",
              "      <th>21220</th>\n",
              "      <th>21221</th>\n",
              "      <th>21222</th>\n",
              "      <th>21223</th>\n",
              "      <th>21224</th>\n",
              "      <th>21225</th>\n",
              "      <th>21226</th>\n",
              "      <th>21227</th>\n",
              "      <th>21228</th>\n",
              "      <th>21229</th>\n",
              "      <th>21230</th>\n",
              "      <th>21231</th>\n",
              "      <th>21232</th>\n",
              "      <th>21233</th>\n",
              "      <th>21234</th>\n",
              "      <th>21235</th>\n",
              "      <th>21236</th>\n",
              "      <th>21237</th>\n",
              "      <th>21238</th>\n",
              "      <th>21239</th>\n",
              "      <th>21240</th>\n",
              "      <th>21241</th>\n",
              "      <th>21242</th>\n",
              "      <th>21243</th>\n",
              "      <th>21244</th>\n",
              "      <th>21245</th>\n",
              "      <th>21246</th>\n",
              "      <th>21247</th>\n",
              "      <th>21248</th>\n",
              "      <th>21249</th>\n",
              "      <th>Label</th>\n",
              "    </tr>\n",
              "  </thead>\n",
              "  <tbody>\n",
              "    <tr>\n",
              "      <th>0</th>\n",
              "      <td>13.583620</td>\n",
              "      <td>13.676094</td>\n",
              "      <td>13.600835</td>\n",
              "      <td>14.181311</td>\n",
              "      <td>15.667526</td>\n",
              "      <td>17.915342</td>\n",
              "      <td>20.665114</td>\n",
              "      <td>23.519884</td>\n",
              "      <td>25.790085</td>\n",
              "      <td>26.743195</td>\n",
              "      <td>26.271650</td>\n",
              "      <td>25.281524</td>\n",
              "      <td>25.164267</td>\n",
              "      <td>26.578434</td>\n",
              "      <td>28.715447</td>\n",
              "      <td>29.940161</td>\n",
              "      <td>29.346215</td>\n",
              "      <td>27.679230</td>\n",
              "      <td>26.591844</td>\n",
              "      <td>26.909982</td>\n",
              "      <td>27.687421</td>\n",
              "      <td>27.123398</td>\n",
              "      <td>24.438446</td>\n",
              "      <td>20.804077</td>\n",
              "      <td>18.286828</td>\n",
              "      <td>17.803172</td>\n",
              "      <td>18.221373</td>\n",
              "      <td>17.549706</td>\n",
              "      <td>15.007191</td>\n",
              "      <td>11.850260</td>\n",
              "      <td>10.125883</td>\n",
              "      <td>10.637002</td>\n",
              "      <td>12.189810</td>\n",
              "      <td>12.851383</td>\n",
              "      <td>11.924506</td>\n",
              "      <td>10.650890</td>\n",
              "      <td>10.916151</td>\n",
              "      <td>13.317408</td>\n",
              "      <td>16.486170</td>\n",
              "      <td>18.273575</td>\n",
              "      <td>...</td>\n",
              "      <td>-33.260680</td>\n",
              "      <td>-30.428845</td>\n",
              "      <td>-28.191254</td>\n",
              "      <td>-28.421151</td>\n",
              "      <td>-31.365395</td>\n",
              "      <td>-35.622448</td>\n",
              "      <td>-39.261540</td>\n",
              "      <td>-41.139998</td>\n",
              "      <td>-41.450930</td>\n",
              "      <td>-41.269824</td>\n",
              "      <td>-41.643430</td>\n",
              "      <td>-42.963154</td>\n",
              "      <td>-44.965564</td>\n",
              "      <td>-47.134498</td>\n",
              "      <td>-49.064481</td>\n",
              "      <td>-50.552613</td>\n",
              "      <td>-51.487442</td>\n",
              "      <td>-51.761850</td>\n",
              "      <td>-51.321777</td>\n",
              "      <td>-50.273052</td>\n",
              "      <td>-48.898223</td>\n",
              "      <td>-47.513563</td>\n",
              "      <td>-46.274921</td>\n",
              "      <td>-45.113428</td>\n",
              "      <td>-43.865325</td>\n",
              "      <td>-42.472916</td>\n",
              "      <td>-41.078243</td>\n",
              "      <td>-39.945121</td>\n",
              "      <td>-39.284756</td>\n",
              "      <td>-39.108204</td>\n",
              "      <td>-39.179194</td>\n",
              "      <td>-39.085698</td>\n",
              "      <td>-38.395251</td>\n",
              "      <td>-36.830496</td>\n",
              "      <td>-34.388235</td>\n",
              "      <td>-31.339440</td>\n",
              "      <td>-28.113392</td>\n",
              "      <td>-25.113471</td>\n",
              "      <td>-22.551558</td>\n",
              "      <td>bckg</td>\n",
              "    </tr>\n",
              "    <tr>\n",
              "      <th>0</th>\n",
              "      <td>-1309.107853</td>\n",
              "      <td>-1318.957696</td>\n",
              "      <td>-1322.902085</td>\n",
              "      <td>-1326.147127</td>\n",
              "      <td>-1332.173340</td>\n",
              "      <td>-1340.706616</td>\n",
              "      <td>-1349.218614</td>\n",
              "      <td>-1355.917499</td>\n",
              "      <td>-1361.258724</td>\n",
              "      <td>-1366.948434</td>\n",
              "      <td>-1373.964758</td>\n",
              "      <td>-1381.733164</td>\n",
              "      <td>-1389.022113</td>\n",
              "      <td>-1395.316129</td>\n",
              "      <td>-1401.188932</td>\n",
              "      <td>-1407.504346</td>\n",
              "      <td>-1414.492689</td>\n",
              "      <td>-1421.664256</td>\n",
              "      <td>-1428.470836</td>\n",
              "      <td>-1434.878865</td>\n",
              "      <td>-1441.285073</td>\n",
              "      <td>-1448.005838</td>\n",
              "      <td>-1454.962940</td>\n",
              "      <td>-1461.849112</td>\n",
              "      <td>-1468.493323</td>\n",
              "      <td>-1474.998080</td>\n",
              "      <td>-1481.567468</td>\n",
              "      <td>-1488.284482</td>\n",
              "      <td>-1495.074167</td>\n",
              "      <td>-1501.832983</td>\n",
              "      <td>-1508.533436</td>\n",
              "      <td>-1515.200815</td>\n",
              "      <td>-1521.840560</td>\n",
              "      <td>-1528.429416</td>\n",
              "      <td>-1534.972584</td>\n",
              "      <td>-1541.532427</td>\n",
              "      <td>-1548.176428</td>\n",
              "      <td>-1554.898991</td>\n",
              "      <td>-1561.609913</td>\n",
              "      <td>-1568.210877</td>\n",
              "      <td>...</td>\n",
              "      <td>6.212393</td>\n",
              "      <td>10.868990</td>\n",
              "      <td>13.129591</td>\n",
              "      <td>9.318557</td>\n",
              "      <td>3.162380</td>\n",
              "      <td>1.573604</td>\n",
              "      <td>7.142273</td>\n",
              "      <td>15.151378</td>\n",
              "      <td>18.168132</td>\n",
              "      <td>13.518243</td>\n",
              "      <td>6.044165</td>\n",
              "      <td>3.630786</td>\n",
              "      <td>9.419438</td>\n",
              "      <td>18.566900</td>\n",
              "      <td>22.679370</td>\n",
              "      <td>17.502673</td>\n",
              "      <td>6.704172</td>\n",
              "      <td>-1.659167</td>\n",
              "      <td>-2.373372</td>\n",
              "      <td>2.679188</td>\n",
              "      <td>6.891367</td>\n",
              "      <td>5.317646</td>\n",
              "      <td>-0.948985</td>\n",
              "      <td>-6.225611</td>\n",
              "      <td>-5.676189</td>\n",
              "      <td>0.463456</td>\n",
              "      <td>7.418749</td>\n",
              "      <td>10.211612</td>\n",
              "      <td>7.658098</td>\n",
              "      <td>2.775509</td>\n",
              "      <td>-0.141358</td>\n",
              "      <td>1.045202</td>\n",
              "      <td>5.331259</td>\n",
              "      <td>10.147087</td>\n",
              "      <td>13.476493</td>\n",
              "      <td>14.819768</td>\n",
              "      <td>14.558394</td>\n",
              "      <td>12.842665</td>\n",
              "      <td>9.464605</td>\n",
              "      <td>bckg</td>\n",
              "    </tr>\n",
              "    <tr>\n",
              "      <th>0</th>\n",
              "      <td>2.914161</td>\n",
              "      <td>1.590882</td>\n",
              "      <td>-0.020890</td>\n",
              "      <td>-1.778035</td>\n",
              "      <td>-3.519420</td>\n",
              "      <td>-5.092240</td>\n",
              "      <td>-6.292474</td>\n",
              "      <td>-6.847355</td>\n",
              "      <td>-6.542990</td>\n",
              "      <td>-5.433010</td>\n",
              "      <td>-3.915254</td>\n",
              "      <td>-2.562597</td>\n",
              "      <td>-1.795213</td>\n",
              "      <td>-1.618343</td>\n",
              "      <td>-1.624815</td>\n",
              "      <td>-1.247808</td>\n",
              "      <td>-0.107244</td>\n",
              "      <td>1.764980</td>\n",
              "      <td>3.949670</td>\n",
              "      <td>5.866404</td>\n",
              "      <td>7.078256</td>\n",
              "      <td>7.494880</td>\n",
              "      <td>7.348933</td>\n",
              "      <td>6.980263</td>\n",
              "      <td>6.592410</td>\n",
              "      <td>6.163589</td>\n",
              "      <td>5.550789</td>\n",
              "      <td>4.668341</td>\n",
              "      <td>3.554052</td>\n",
              "      <td>2.278942</td>\n",
              "      <td>0.870427</td>\n",
              "      <td>-0.618952</td>\n",
              "      <td>-1.948312</td>\n",
              "      <td>-2.660776</td>\n",
              "      <td>-2.342043</td>\n",
              "      <td>-1.016205</td>\n",
              "      <td>0.688194</td>\n",
              "      <td>1.856404</td>\n",
              "      <td>1.917983</td>\n",
              "      <td>1.087706</td>\n",
              "      <td>...</td>\n",
              "      <td>3.444875</td>\n",
              "      <td>3.860037</td>\n",
              "      <td>4.243694</td>\n",
              "      <td>4.388649</td>\n",
              "      <td>4.248045</td>\n",
              "      <td>3.993868</td>\n",
              "      <td>3.855157</td>\n",
              "      <td>3.905062</td>\n",
              "      <td>4.008723</td>\n",
              "      <td>3.966030</td>\n",
              "      <td>3.685770</td>\n",
              "      <td>3.216679</td>\n",
              "      <td>2.633998</td>\n",
              "      <td>1.937455</td>\n",
              "      <td>1.098267</td>\n",
              "      <td>0.207954</td>\n",
              "      <td>-0.460440</td>\n",
              "      <td>-0.595282</td>\n",
              "      <td>-0.101658</td>\n",
              "      <td>0.763412</td>\n",
              "      <td>1.526622</td>\n",
              "      <td>1.822480</td>\n",
              "      <td>1.648456</td>\n",
              "      <td>1.339276</td>\n",
              "      <td>1.280506</td>\n",
              "      <td>1.593095</td>\n",
              "      <td>2.048383</td>\n",
              "      <td>2.275701</td>\n",
              "      <td>2.071601</td>\n",
              "      <td>1.544954</td>\n",
              "      <td>0.988891</td>\n",
              "      <td>0.618023</td>\n",
              "      <td>0.419069</td>\n",
              "      <td>0.243810</td>\n",
              "      <td>0.032271</td>\n",
              "      <td>-0.076679</td>\n",
              "      <td>0.125102</td>\n",
              "      <td>0.664998</td>\n",
              "      <td>1.279810</td>\n",
              "      <td>bckg</td>\n",
              "    </tr>\n",
              "    <tr>\n",
              "      <th>0</th>\n",
              "      <td>5.454314</td>\n",
              "      <td>2.472440</td>\n",
              "      <td>-1.704146</td>\n",
              "      <td>-3.170010</td>\n",
              "      <td>0.852635</td>\n",
              "      <td>9.117344</td>\n",
              "      <td>16.441794</td>\n",
              "      <td>17.506300</td>\n",
              "      <td>11.437249</td>\n",
              "      <td>3.004154</td>\n",
              "      <td>-1.160312</td>\n",
              "      <td>1.691133</td>\n",
              "      <td>8.017743</td>\n",
              "      <td>11.406447</td>\n",
              "      <td>8.884357</td>\n",
              "      <td>4.017446</td>\n",
              "      <td>3.289884</td>\n",
              "      <td>8.912484</td>\n",
              "      <td>15.201654</td>\n",
              "      <td>13.013510</td>\n",
              "      <td>-0.904016</td>\n",
              "      <td>-18.424201</td>\n",
              "      <td>-24.826226</td>\n",
              "      <td>-11.137050</td>\n",
              "      <td>16.706740</td>\n",
              "      <td>41.155022</td>\n",
              "      <td>47.059351</td>\n",
              "      <td>34.273312</td>\n",
              "      <td>17.214242</td>\n",
              "      <td>11.593306</td>\n",
              "      <td>20.622120</td>\n",
              "      <td>33.450818</td>\n",
              "      <td>36.814916</td>\n",
              "      <td>28.012352</td>\n",
              "      <td>16.460650</td>\n",
              "      <td>13.226672</td>\n",
              "      <td>19.914072</td>\n",
              "      <td>28.229385</td>\n",
              "      <td>29.852174</td>\n",
              "      <td>25.395306</td>\n",
              "      <td>...</td>\n",
              "      <td>37.636161</td>\n",
              "      <td>38.793860</td>\n",
              "      <td>32.633782</td>\n",
              "      <td>22.513786</td>\n",
              "      <td>14.518491</td>\n",
              "      <td>13.551810</td>\n",
              "      <td>20.029656</td>\n",
              "      <td>29.898065</td>\n",
              "      <td>37.992864</td>\n",
              "      <td>41.711742</td>\n",
              "      <td>41.861706</td>\n",
              "      <td>40.568420</td>\n",
              "      <td>38.851785</td>\n",
              "      <td>36.312659</td>\n",
              "      <td>32.686043</td>\n",
              "      <td>28.994608</td>\n",
              "      <td>26.870477</td>\n",
              "      <td>26.810515</td>\n",
              "      <td>27.506232</td>\n",
              "      <td>27.171763</td>\n",
              "      <td>25.455476</td>\n",
              "      <td>23.880228</td>\n",
              "      <td>24.302731</td>\n",
              "      <td>27.029310</td>\n",
              "      <td>30.474573</td>\n",
              "      <td>32.568546</td>\n",
              "      <td>32.450670</td>\n",
              "      <td>30.905923</td>\n",
              "      <td>29.477489</td>\n",
              "      <td>29.252211</td>\n",
              "      <td>30.227733</td>\n",
              "      <td>31.508770</td>\n",
              "      <td>32.008501</td>\n",
              "      <td>31.312387</td>\n",
              "      <td>30.262266</td>\n",
              "      <td>30.615903</td>\n",
              "      <td>33.576708</td>\n",
              "      <td>38.127551</td>\n",
              "      <td>40.953090</td>\n",
              "      <td>bckg</td>\n",
              "    </tr>\n",
              "    <tr>\n",
              "      <th>0</th>\n",
              "      <td>4.099143</td>\n",
              "      <td>2.044323</td>\n",
              "      <td>1.723583</td>\n",
              "      <td>2.102997</td>\n",
              "      <td>1.539621</td>\n",
              "      <td>-0.536260</td>\n",
              "      <td>-3.154387</td>\n",
              "      <td>-4.823918</td>\n",
              "      <td>-4.847987</td>\n",
              "      <td>-3.720888</td>\n",
              "      <td>-2.467219</td>\n",
              "      <td>-1.781194</td>\n",
              "      <td>-1.725958</td>\n",
              "      <td>-1.970698</td>\n",
              "      <td>-2.123885</td>\n",
              "      <td>-1.847287</td>\n",
              "      <td>-0.902837</td>\n",
              "      <td>0.735348</td>\n",
              "      <td>2.797870</td>\n",
              "      <td>4.841920</td>\n",
              "      <td>6.528291</td>\n",
              "      <td>7.721907</td>\n",
              "      <td>8.357715</td>\n",
              "      <td>8.325327</td>\n",
              "      <td>7.639304</td>\n",
              "      <td>6.723707</td>\n",
              "      <td>6.305915</td>\n",
              "      <td>6.831083</td>\n",
              "      <td>7.938591</td>\n",
              "      <td>8.749156</td>\n",
              "      <td>8.879649</td>\n",
              "      <td>9.117296</td>\n",
              "      <td>10.849653</td>\n",
              "      <td>14.586236</td>\n",
              "      <td>19.058168</td>\n",
              "      <td>21.942228</td>\n",
              "      <td>21.734797</td>\n",
              "      <td>19.008607</td>\n",
              "      <td>15.815243</td>\n",
              "      <td>13.887279</td>\n",
              "      <td>...</td>\n",
              "      <td>-11.143447</td>\n",
              "      <td>-11.977418</td>\n",
              "      <td>-14.520288</td>\n",
              "      <td>-18.935536</td>\n",
              "      <td>-24.128382</td>\n",
              "      <td>-28.230299</td>\n",
              "      <td>-29.788201</td>\n",
              "      <td>-28.609893</td>\n",
              "      <td>-25.616397</td>\n",
              "      <td>-22.017893</td>\n",
              "      <td>-18.658580</td>\n",
              "      <td>-15.945731</td>\n",
              "      <td>-13.983253</td>\n",
              "      <td>-12.452332</td>\n",
              "      <td>-10.403035</td>\n",
              "      <td>-6.549843</td>\n",
              "      <td>-0.246242</td>\n",
              "      <td>7.627649</td>\n",
              "      <td>14.854284</td>\n",
              "      <td>19.284416</td>\n",
              "      <td>20.347154</td>\n",
              "      <td>19.277107</td>\n",
              "      <td>17.843491</td>\n",
              "      <td>16.814174</td>\n",
              "      <td>15.631500</td>\n",
              "      <td>13.504510</td>\n",
              "      <td>10.635398</td>\n",
              "      <td>8.234395</td>\n",
              "      <td>7.299392</td>\n",
              "      <td>7.542314</td>\n",
              "      <td>7.693409</td>\n",
              "      <td>6.900950</td>\n",
              "      <td>5.710828</td>\n",
              "      <td>5.444382</td>\n",
              "      <td>6.561429</td>\n",
              "      <td>7.747034</td>\n",
              "      <td>6.824235</td>\n",
              "      <td>2.690702</td>\n",
              "      <td>-3.608169</td>\n",
              "      <td>bckg</td>\n",
              "    </tr>\n",
              "  </tbody>\n",
              "</table>\n",
              "<p>5 rows × 21251 columns</p>\n",
              "</div>"
            ],
            "text/plain": [
              "             0            1            2  ...      21248      21249  Label\n",
              "0    13.583620    13.676094    13.600835  ... -25.113471 -22.551558   bckg\n",
              "0 -1309.107853 -1318.957696 -1322.902085  ...  12.842665   9.464605   bckg\n",
              "0     2.914161     1.590882    -0.020890  ...   0.664998   1.279810   bckg\n",
              "0     5.454314     2.472440    -1.704146  ...  38.127551  40.953090   bckg\n",
              "0     4.099143     2.044323     1.723583  ...   2.690702  -3.608169   bckg\n",
              "\n",
              "[5 rows x 21251 columns]"
            ]
          },
          "metadata": {
            "tags": []
          },
          "execution_count": 105
        }
      ]
    },
    {
      "cell_type": "code",
      "metadata": {
        "id": "OsiYgb7n07Tj",
        "colab_type": "code",
        "colab": {
          "base_uri": "https://localhost:8080/",
          "height": 34
        },
        "outputId": "a3f4f6a3-3dac-4567-acf0-82f77d1ca675"
      },
      "source": [
        "(21250/250)/17"
      ],
      "execution_count": 106,
      "outputs": [
        {
          "output_type": "execute_result",
          "data": {
            "text/plain": [
              "5.0"
            ]
          },
          "metadata": {
            "tags": []
          },
          "execution_count": 106
        }
      ]
    },
    {
      "cell_type": "code",
      "metadata": {
        "id": "sk9IQzbn07To",
        "colab_type": "code",
        "colab": {
          "base_uri": "https://localhost:8080/",
          "height": 195
        },
        "outputId": "35a544dc-5758-475f-db93-8be4827bca57"
      },
      "source": [
        "# Seizure Dataframe (features,target)\n",
        "df_feat_s = df_s.dropna()\n",
        "df_feat_s['Label'] = 'seiz'\n",
        "df_feat_s.head()"
      ],
      "execution_count": 107,
      "outputs": [
        {
          "output_type": "execute_result",
          "data": {
            "text/html": [
              "<div>\n",
              "<style scoped>\n",
              "    .dataframe tbody tr th:only-of-type {\n",
              "        vertical-align: middle;\n",
              "    }\n",
              "\n",
              "    .dataframe tbody tr th {\n",
              "        vertical-align: top;\n",
              "    }\n",
              "\n",
              "    .dataframe thead th {\n",
              "        text-align: right;\n",
              "    }\n",
              "</style>\n",
              "<table border=\"1\" class=\"dataframe\">\n",
              "  <thead>\n",
              "    <tr style=\"text-align: right;\">\n",
              "      <th></th>\n",
              "      <th>Label</th>\n",
              "    </tr>\n",
              "  </thead>\n",
              "  <tbody>\n",
              "    <tr>\n",
              "      <th>0</th>\n",
              "      <td>seiz</td>\n",
              "    </tr>\n",
              "    <tr>\n",
              "      <th>0</th>\n",
              "      <td>seiz</td>\n",
              "    </tr>\n",
              "    <tr>\n",
              "      <th>0</th>\n",
              "      <td>seiz</td>\n",
              "    </tr>\n",
              "    <tr>\n",
              "      <th>0</th>\n",
              "      <td>seiz</td>\n",
              "    </tr>\n",
              "    <tr>\n",
              "      <th>0</th>\n",
              "      <td>seiz</td>\n",
              "    </tr>\n",
              "  </tbody>\n",
              "</table>\n",
              "</div>"
            ],
            "text/plain": [
              "  Label\n",
              "0  seiz\n",
              "0  seiz\n",
              "0  seiz\n",
              "0  seiz\n",
              "0  seiz"
            ]
          },
          "metadata": {
            "tags": []
          },
          "execution_count": 107
        }
      ]
    },
    {
      "cell_type": "code",
      "metadata": {
        "id": "WKNYBP_V07Tv",
        "colab_type": "code",
        "colab": {
          "base_uri": "https://localhost:8080/",
          "height": 195
        },
        "outputId": "2b0ecb6f-e7e0-43e4-d97d-92d7320e2de9"
      },
      "source": [
        "# pre-Seizure Dataframe (features,target)\n",
        "df_feat_pz = df_pz.dropna()\n",
        "df_feat_pz['Label'] = 'pre-seiz'\n",
        "df_feat_pz.head()"
      ],
      "execution_count": 108,
      "outputs": [
        {
          "output_type": "execute_result",
          "data": {
            "text/html": [
              "<div>\n",
              "<style scoped>\n",
              "    .dataframe tbody tr th:only-of-type {\n",
              "        vertical-align: middle;\n",
              "    }\n",
              "\n",
              "    .dataframe tbody tr th {\n",
              "        vertical-align: top;\n",
              "    }\n",
              "\n",
              "    .dataframe thead th {\n",
              "        text-align: right;\n",
              "    }\n",
              "</style>\n",
              "<table border=\"1\" class=\"dataframe\">\n",
              "  <thead>\n",
              "    <tr style=\"text-align: right;\">\n",
              "      <th></th>\n",
              "      <th>Label</th>\n",
              "    </tr>\n",
              "  </thead>\n",
              "  <tbody>\n",
              "    <tr>\n",
              "      <th>0</th>\n",
              "      <td>pre-seiz</td>\n",
              "    </tr>\n",
              "    <tr>\n",
              "      <th>0</th>\n",
              "      <td>pre-seiz</td>\n",
              "    </tr>\n",
              "    <tr>\n",
              "      <th>0</th>\n",
              "      <td>pre-seiz</td>\n",
              "    </tr>\n",
              "    <tr>\n",
              "      <th>0</th>\n",
              "      <td>pre-seiz</td>\n",
              "    </tr>\n",
              "    <tr>\n",
              "      <th>0</th>\n",
              "      <td>pre-seiz</td>\n",
              "    </tr>\n",
              "  </tbody>\n",
              "</table>\n",
              "</div>"
            ],
            "text/plain": [
              "      Label\n",
              "0  pre-seiz\n",
              "0  pre-seiz\n",
              "0  pre-seiz\n",
              "0  pre-seiz\n",
              "0  pre-seiz"
            ]
          },
          "metadata": {
            "tags": []
          },
          "execution_count": 108
        }
      ]
    },
    {
      "cell_type": "code",
      "metadata": {
        "id": "0J0P74zJ07T0",
        "colab_type": "code",
        "colab": {}
      },
      "source": [
        "## TODO: Apllying PCA reduce Dim\n"
      ],
      "execution_count": 0,
      "outputs": []
    },
    {
      "cell_type": "code",
      "metadata": {
        "id": "35BjahsW07T4",
        "colab_type": "code",
        "colab": {}
      },
      "source": [
        "## TODO: Scalling"
      ],
      "execution_count": 0,
      "outputs": []
    },
    {
      "cell_type": "code",
      "metadata": {
        "id": "lgIHutLY07T8",
        "colab_type": "code",
        "colab": {}
      },
      "source": [
        "## TODO: train and validate your model using neural network\n"
      ],
      "execution_count": 0,
      "outputs": []
    },
    {
      "cell_type": "code",
      "metadata": {
        "id": "mzTbK4ib07UD",
        "colab_type": "code",
        "colab": {}
      },
      "source": [
        ""
      ],
      "execution_count": 0,
      "outputs": []
    },
    {
      "cell_type": "code",
      "metadata": {
        "id": "SzzutQPD07UH",
        "colab_type": "code",
        "colab": {}
      },
      "source": [
        ""
      ],
      "execution_count": 0,
      "outputs": []
    }
  ]
}